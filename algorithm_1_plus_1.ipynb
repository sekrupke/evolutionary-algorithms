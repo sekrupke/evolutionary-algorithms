{
 "cells": [
  {
   "cell_type": "markdown",
   "source": [
    "This is an introduction to evolutionary computation in Python with NumPy."
   ],
   "metadata": {
    "collapsed": false,
    "pycharm": {
     "name": "#%% md\n"
    }
   }
  },
  {
   "cell_type": "code",
   "execution_count": 40,
   "outputs": [],
   "source": [
    "import numpy as np"
   ],
   "metadata": {
    "collapsed": false,
    "pycharm": {
     "name": "#%%\n"
    }
   }
  },
  {
   "cell_type": "code",
   "execution_count": 41,
   "outputs": [],
   "source": [
    "def sphere(value):\n",
    "    return np.dot(value.T, value)"
   ],
   "metadata": {
    "collapsed": false,
    "pycharm": {
     "name": "#%%\n"
    }
   }
  },
  {
   "cell_type": "code",
   "execution_count": 42,
   "outputs": [],
   "source": [
    "N = 5\n",
    "x = 2 * np.ones(N)"
   ],
   "metadata": {
    "collapsed": false,
    "pycharm": {
     "name": "#%%\n"
    }
   }
  },
  {
   "cell_type": "code",
   "execution_count": 43,
   "outputs": [],
   "source": [
    "f = sphere(x)"
   ],
   "metadata": {
    "collapsed": false,
    "pycharm": {
     "name": "#%%\n"
    }
   }
  },
  {
   "cell_type": "code",
   "execution_count": 44,
   "outputs": [
    {
     "name": "stdout",
     "output_type": "stream",
     "text": [
      "In generation 1 we have a fitness of: 19.29983659837203\n",
      "In generation 2 we have a fitness of: 11.165250045573133\n",
      "In generation 3 we have a fitness of: 10.33354804388375\n",
      "In generation 4 we have a fitness of: 10.33354804388375\n",
      "In generation 5 we have a fitness of: 10.33354804388375\n",
      "In generation 6 we have a fitness of: 10.33354804388375\n",
      "In generation 7 we have a fitness of: 10.33354804388375\n",
      "In generation 8 we have a fitness of: 10.33354804388375\n",
      "In generation 9 we have a fitness of: 10.33354804388375\n",
      "In generation 10 we have a fitness of: 10.33354804388375\n",
      "In generation 11 we have a fitness of: 10.33354804388375\n",
      "In generation 12 we have a fitness of: 10.33354804388375\n",
      "In generation 13 we have a fitness of: 9.582926448559608\n",
      "In generation 14 we have a fitness of: 9.582926448559608\n",
      "In generation 15 we have a fitness of: 9.582926448559608\n",
      "In generation 16 we have a fitness of: 9.582926448559608\n",
      "In generation 17 we have a fitness of: 9.582926448559608\n",
      "In generation 18 we have a fitness of: 9.582926448559608\n",
      "In generation 19 we have a fitness of: 9.582926448559608\n",
      "In generation 20 we have a fitness of: 9.582926448559608\n",
      "In generation 21 we have a fitness of: 9.582926448559608\n",
      "In generation 22 we have a fitness of: 9.582926448559608\n",
      "In generation 23 we have a fitness of: 9.582926448559608\n",
      "In generation 24 we have a fitness of: 9.582926448559608\n",
      "In generation 25 we have a fitness of: 8.168789585050172\n",
      "In generation 26 we have a fitness of: 8.168789585050172\n",
      "In generation 27 we have a fitness of: 5.888533956386258\n",
      "In generation 28 we have a fitness of: 5.888533956386258\n",
      "In generation 29 we have a fitness of: 3.901967359947424\n",
      "In generation 30 we have a fitness of: 3.901967359947424\n",
      "In generation 31 we have a fitness of: 3.901967359947424\n",
      "In generation 32 we have a fitness of: 3.901967359947424\n",
      "In generation 33 we have a fitness of: 3.120617628746305\n",
      "In generation 34 we have a fitness of: 3.120617628746305\n",
      "In generation 35 we have a fitness of: 3.120617628746305\n",
      "In generation 36 we have a fitness of: 3.120617628746305\n",
      "In generation 37 we have a fitness of: 1.7482533875781503\n",
      "In generation 38 we have a fitness of: 1.7482533875781503\n",
      "In generation 39 we have a fitness of: 1.7482533875781503\n",
      "In generation 40 we have a fitness of: 1.7482533875781503\n",
      "In generation 41 we have a fitness of: 1.7482533875781503\n",
      "In generation 42 we have a fitness of: 1.7482533875781503\n",
      "In generation 43 we have a fitness of: 1.7482533875781503\n",
      "In generation 44 we have a fitness of: 1.5587680536598363\n",
      "In generation 45 we have a fitness of: 1.5587680536598363\n",
      "In generation 46 we have a fitness of: 1.5587680536598363\n",
      "In generation 47 we have a fitness of: 1.5587680536598363\n",
      "In generation 48 we have a fitness of: 1.5587680536598363\n",
      "In generation 49 we have a fitness of: 1.5587680536598363\n",
      "In generation 50 we have a fitness of: 1.5587680536598363\n",
      "In generation 51 we have a fitness of: 1.5587680536598363\n",
      "In generation 52 we have a fitness of: 1.5587680536598363\n",
      "In generation 53 we have a fitness of: 1.5587680536598363\n",
      "In generation 54 we have a fitness of: 1.5587680536598363\n",
      "In generation 55 we have a fitness of: 1.5587680536598363\n",
      "In generation 56 we have a fitness of: 1.5587680536598363\n",
      "In generation 57 we have a fitness of: 1.5587680536598363\n",
      "In generation 58 we have a fitness of: 1.30577483912056\n",
      "In generation 59 we have a fitness of: 1.30577483912056\n",
      "In generation 60 we have a fitness of: 1.30577483912056\n",
      "In generation 61 we have a fitness of: 1.30577483912056\n",
      "In generation 62 we have a fitness of: 1.30577483912056\n",
      "In generation 63 we have a fitness of: 1.30577483912056\n",
      "In generation 64 we have a fitness of: 1.30577483912056\n",
      "In generation 65 we have a fitness of: 1.30577483912056\n",
      "In generation 66 we have a fitness of: 1.30577483912056\n",
      "In generation 67 we have a fitness of: 1.30577483912056\n",
      "In generation 68 we have a fitness of: 1.30577483912056\n",
      "In generation 69 we have a fitness of: 1.30577483912056\n",
      "In generation 70 we have a fitness of: 1.30577483912056\n",
      "In generation 71 we have a fitness of: 1.30577483912056\n",
      "In generation 72 we have a fitness of: 1.30577483912056\n",
      "In generation 73 we have a fitness of: 1.30577483912056\n",
      "In generation 74 we have a fitness of: 1.30577483912056\n",
      "In generation 75 we have a fitness of: 1.30577483912056\n",
      "In generation 76 we have a fitness of: 1.30577483912056\n",
      "In generation 77 we have a fitness of: 1.30577483912056\n",
      "In generation 78 we have a fitness of: 1.30577483912056\n",
      "In generation 79 we have a fitness of: 1.30577483912056\n",
      "In generation 80 we have a fitness of: 1.30577483912056\n",
      "In generation 81 we have a fitness of: 1.30577483912056\n",
      "In generation 82 we have a fitness of: 1.30577483912056\n",
      "In generation 83 we have a fitness of: 0.9255472814972167\n",
      "In generation 84 we have a fitness of: 0.9255472814972167\n",
      "In generation 85 we have a fitness of: 0.9255472814972167\n",
      "In generation 86 we have a fitness of: 0.9255472814972167\n",
      "In generation 87 we have a fitness of: 0.9255472814972167\n",
      "In generation 88 we have a fitness of: 0.9255472814972167\n",
      "In generation 89 we have a fitness of: 0.9255472814972167\n",
      "In generation 90 we have a fitness of: 0.9255472814972167\n",
      "In generation 91 we have a fitness of: 0.9255472814972167\n",
      "In generation 92 we have a fitness of: 0.9255472814972167\n",
      "In generation 93 we have a fitness of: 0.9255472814972167\n",
      "In generation 94 we have a fitness of: 0.9255472814972167\n",
      "In generation 95 we have a fitness of: 0.9255472814972167\n",
      "In generation 96 we have a fitness of: 0.9255472814972167\n",
      "In generation 97 we have a fitness of: 0.9255472814972167\n",
      "In generation 98 we have a fitness of: 0.9255472814972167\n",
      "In generation 99 we have a fitness of: 0.9255472814972167\n",
      "In generation 100 we have a fitness of: 0.9255472814972167\n"
     ]
    }
   ],
   "source": [
    "g = 0\n",
    "\n",
    "fitness = sphere(x)\n",
    "sigma = 1.\n",
    "\n",
    "while g < 100:\n",
    "    g += 1\n",
    "\n",
    "    x_ = x + sigma * np.random.randn(N)\n",
    "    fitness_ = sphere(x_)\n",
    "\n",
    "    if fitness_ <= fitness:\n",
    "        x = x_\n",
    "        fitness = fitness_\n",
    "\n",
    "    print(\"In generation\", g, \"we have a fitness of:\", fitness)"
   ],
   "metadata": {
    "collapsed": false,
    "pycharm": {
     "name": "#%%\n"
    }
   }
  },
  {
   "cell_type": "code",
   "execution_count": null,
   "outputs": [],
   "source": [],
   "metadata": {
    "collapsed": false,
    "pycharm": {
     "name": "#%%\n"
    }
   }
  }
 ],
 "metadata": {
  "kernelspec": {
   "display_name": "Python 3",
   "language": "python",
   "name": "python3"
  },
  "language_info": {
   "codemirror_mode": {
    "name": "ipython",
    "version": 2
   },
   "file_extension": ".py",
   "mimetype": "text/x-python",
   "name": "python",
   "nbconvert_exporter": "python",
   "pygments_lexer": "ipython2",
   "version": "2.7.6"
  }
 },
 "nbformat": 4,
 "nbformat_minor": 0
}