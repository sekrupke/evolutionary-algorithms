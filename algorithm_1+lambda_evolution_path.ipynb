{
 "cells": [
  {
   "cell_type": "markdown",
   "source": [
    "This is an introduction to evolutionary computation in Python with NumPy."
   ],
   "metadata": {
    "collapsed": false,
    "pycharm": {
     "name": "#%% md\n"
    }
   }
  },
  {
   "cell_type": "code",
   "execution_count": 28,
   "outputs": [],
   "source": [
    "import math\n",
    "import random as rdm\n",
    "import numpy as np"
   ],
   "metadata": {
    "collapsed": false,
    "pycharm": {
     "name": "#%%\n"
    }
   }
  },
  {
   "cell_type": "code",
   "execution_count": 29,
   "outputs": [],
   "source": [
    "class Mutation:\n",
    "    def __init__(self, xm, fit, zm):\n",
    "        self.xm = xm\n",
    "        self.zm = zm\n",
    "        self.fit = fit\n",
    "\n",
    "    def __gt__(self, mutation2):\n",
    "        return self.fit > mutation2.fit\n",
    "\n",
    "    def __str__(self):\n",
    "        return \"Mutation-Fitness: \" + str(self.fit)\n",
    "\n",
    "def sphere_function(value):\n",
    "    return np.dot(value.T, value)\n",
    "\n",
    "\n",
    "def rosenbrock_function(value):\n",
    "    n = len(value)\n",
    "    _sum = 0\n",
    "\n",
    "    for i in range(n - 1):\n",
    "        _sum += 100 * (value[i] ** 2 - value[i+1]) ** 2 + (value[i] - 1) ** 2\n",
    "    return _sum\n",
    "\n",
    "\n",
    "def rastrigin_function(value):\n",
    "    A = 10\n",
    "    n = len(value)\n",
    "    _sum = 0\n",
    "\n",
    "    for i in range(n):\n",
    "        _sum += value[i] ** 2 - A * np.cos(2 * np.pi * value[i])\n",
    "    return A * n + _sum"
   ],
   "metadata": {
    "collapsed": false,
    "pycharm": {
     "name": "#%%\n"
    }
   }
  },
  {
   "cell_type": "code",
   "execution_count": 30,
   "outputs": [
    {
     "name": "stdout",
     "output_type": "stream",
     "text": [
      "The generation 1 is: Mutation-Fitness: 10.514246696908996 Next sigma: -1.6848867845651394\n",
      "The generation 2 is: Mutation-Fitness: 0.8724468171902767 Next sigma: 0.6843361759677796\n",
      "The generation 3 is: Mutation-Fitness: 0.20803945102966115 Next sigma: -1.3670283058357793\n",
      "The generation 4 is: Mutation-Fitness: 0.20803945102966115 Next sigma: 2.7307724691208306\n",
      "The generation 5 is: Mutation-Fitness: 0.20803945102966115 Next sigma: -5.454984542949251\n",
      "The generation 6 is: Mutation-Fitness: 0.20803945102966115 Next sigma: 10.896864055977334\n",
      "The generation 7 is: Mutation-Fitness: 0.20803945102966115 Next sigma: -21.767549535576286\n",
      "The generation 8 is: Mutation-Fitness: 0.20803945102966115 Next sigma: 43.48280480968799\n",
      "The generation 9 is: Mutation-Fitness: 0.20803945102966115 Next sigma: -86.86114672794142\n",
      "The generation 10 is: Mutation-Fitness: 0.20803945102966115 Next sigma: 173.5136186341864\n",
      "The generation 11 is: Mutation-Fitness: 0.20803945102966115 Next sigma: -346.61038894441737\n",
      "The generation 12 is: Mutation-Fitness: 0.20803945102966115 Next sigma: 692.3880826754311\n",
      "The generation 13 is: Mutation-Fitness: 0.20803945102966115 Next sigma: -1383.1127753872279\n",
      "The generation 14 is: Mutation-Fitness: 0.20803945102966115 Next sigma: 2762.9027669676293\n",
      "The generation 15 is: Mutation-Fitness: 0.20803945102966115 Next sigma: -5519.167948962229\n",
      "The generation 16 is: Mutation-Fitness: 0.20803945102966115 Next sigma: 11025.076674082185\n",
      "The generation 17 is: Mutation-Fitness: 0.20803945102966115 Next sigma: -22023.66675437855\n",
      "The generation 18 is: Mutation-Fitness: 0.20803945102966115 Next sigma: 43994.423952457255\n",
      "The generation 19 is: Mutation-Fitness: 0.20803945102966115 Next sigma: -87883.15590199092\n",
      "The generation 20 is: Mutation-Fitness: 0.20803945102966115 Next sigma: 175555.18171211917\n",
      "The generation 21 is: Mutation-Fitness: 0.20803945102966115 Next sigma: -350688.61045848025\n",
      "The generation 22 is: Mutation-Fitness: 0.20803945102966115 Next sigma: 700534.7282028407\n",
      "The generation 23 is: Mutation-Fitness: 0.20803945102966115 Next sigma: -1399386.4949780854\n",
      "The generation 24 is: Mutation-Fitness: 0.20803945102966115 Next sigma: 2795411.1102398164\n",
      "The generation 25 is: Mutation-Fitness: 0.20803945102966115 Next sigma: -5584106.537611381\n",
      "The generation 26 is: Mutation-Fitness: 0.20803945102966115 Next sigma: 11154797.843212074\n",
      "The generation 27 is: Mutation-Fitness: 0.20803945102966115 Next sigma: -22282797.451094806\n",
      "The generation 28 is: Mutation-Fitness: 0.20803945102966115 Next sigma: 44512062.81148894\n",
      "The generation 29 is: Mutation-Fitness: 0.20803945102966115 Next sigma: -88917190.04682644\n",
      "The generation 30 is: Mutation-Fitness: 0.20803945102966115 Next sigma: 177620765.84288913\n",
      "The generation 31 is: Mutation-Fitness: 0.20803945102966115 Next sigma: -354814816.37014997\n",
      "The generation 32 is: Mutation-Fitness: 0.20803945102966115 Next sigma: 708777227.2479664\n",
      "The generation 33 is: Mutation-Fitness: 0.20803945102966115 Next sigma: -1415851691.3263226\n",
      "The generation 34 is: Mutation-Fitness: 0.20803945102966115 Next sigma: 2828301947.0238767\n",
      "The generation 35 is: Mutation-Fitness: 0.20803945102966115 Next sigma: -5649809194.383617\n",
      "The generation 36 is: Mutation-Fitness: 0.20803945102966115 Next sigma: 11286045312.994364\n",
      "The generation 37 is: Mutation-Fitness: 0.20803945102966115 Next sigma: -22544977082.338154\n",
      "The generation 38 is: Mutation-Fitness: 0.20803945102966115 Next sigma: 45035792214.828445\n",
      "The generation 39 is: Mutation-Fitness: 0.20803945102966115 Next sigma: -89963390648.3818\n",
      "The generation 40 is: Mutation-Fitness: 0.20803945102966115 Next sigma: 179710653658.4588\n",
      "The generation 41 is: Mutation-Fitness: 0.20803945102966115 Next sigma: -358989571264.358\n",
      "The generation 42 is: Mutation-Fitness: 0.20803945102966115 Next sigma: 717116707624.3151\n",
      "The generation 43 is: Mutation-Fitness: 0.20803945102966115 Next sigma: -1432510617349.499\n",
      "The generation 44 is: Mutation-Fitness: 0.20803945102966115 Next sigma: 2861579777742.5303\n",
      "The generation 45 is: Mutation-Fitness: 0.20803945102966115 Next sigma: -5716284909312.58\n",
      "The generation 46 is: Mutation-Fitness: 0.20803945102966115 Next sigma: 11418837041898.727\n",
      "The generation 47 is: Mutation-Fitness: 0.20803945102966115 Next sigma: -22810241521904.598\n",
      "The generation 48 is: Mutation-Fitness: 0.20803945102966115 Next sigma: 45565683823884.73\n",
      "The generation 49 is: Mutation-Fitness: 0.20803945102966115 Next sigma: -91021900857315.88\n",
      "The generation 50 is: Mutation-Fitness: 0.20803945102966115 Next sigma: 181825131116241.4\n",
      "The generation 51 is: Mutation-Fitness: 0.20803945102966115 Next sigma: -363213446368947.75\n",
      "The generation 52 is: Mutation-Fitness: 0.20803945102966115 Next sigma: 725554310415258.5\n",
      "The generation 53 is: Mutation-Fitness: 0.20803945102966115 Next sigma: -1449365552473024.8\n",
      "The generation 54 is: Mutation-Fitness: 0.20803945102966115 Next sigma: 2895249155770516.0\n",
      "The generation 55 is: Mutation-Fitness: 0.20803945102966115 Next sigma: -5783542778208742.0\n",
      "The generation 56 is: Mutation-Fitness: 0.20803945102966115 Next sigma: 1.1553191199694374e+16\n",
      "The generation 57 is: Mutation-Fitness: 0.20803945102966115 Next sigma: -2.3078627065681584e+16\n",
      "The generation 58 is: Mutation-Fitness: 0.20803945102966115 Next sigma: 4.610181014323562e+16\n",
      "The generation 59 is: Mutation-Fitness: 0.20803945102966115 Next sigma: -9.209286550859966e+16\n",
      "The generation 60 is: Mutation-Fitness: 0.20803945102966115 Next sigma: 1.839644875382281e+17\n",
      "The generation 61 is: Mutation-Fitness: 0.20803945102966115 Next sigma: -3.674870196328359e+17\n",
      "The generation 62 is: Mutation-Fitness: 0.20803945102966115 Next sigma: 7.34091190130168e+17\n",
      "The generation 63 is: Mutation-Fitness: 0.20803945102966115 Next sigma: -1.4664188029420544e+18\n",
      "The generation 64 is: Mutation-Fitness: 0.20803945102966115 Next sigma: 2.9293146880576307e+18\n",
      "The generation 65 is: Mutation-Fitness: 0.20803945102966115 Next sigma: -5.851592003903982e+18\n",
      "The generation 66 is: Mutation-Fitness: 0.20803945102966115 Next sigma: 1.1689126169936222e+19\n",
      "The generation 67 is: Mutation-Fitness: 0.20803945102966115 Next sigma: -2.335017043661438e+19\n",
      "The generation 68 is: Mutation-Fitness: 0.20803945102966115 Next sigma: 4.664424453054861e+19\n",
      "The generation 69 is: Mutation-Fitness: 0.20803945102966115 Next sigma: -9.317643114133406e+19\n",
      "The generation 70 is: Mutation-Fitness: 0.20803945102966115 Next sigma: 1.8612901565057578e+20\n",
      "The generation 71 is: Mutation-Fitness: 0.20803945102966115 Next sigma: -3.718108758050922e+20\n",
      "The generation 72 is: Mutation-Fitness: 0.20803945102966115 Next sigma: 7.427285148623848e+20\n",
      "The generation 73 is: Mutation-Fitness: 0.20803945102966115 Next sigma: -1.4836727021370485e+21\n",
      "The generation 74 is: Mutation-Fitness: 0.20803945102966115 Next sigma: 2.963781035759092e+21\n",
      "The generation 75 is: Mutation-Fitness: 0.20803945102966115 Next sigma: -5.920441897510795e+21\n",
      "The generation 76 is: Mutation-Fitness: 0.20803945102966115 Next sigma: 1.1826660552480288e+22\n",
      "The generation 77 is: Mutation-Fitness: 0.20803945102966115 Next sigma: -2.3624908789730813e+22\n",
      "The generation 78 is: Mutation-Fitness: 0.20803945102966115 Next sigma: 4.7193061206618284e+22\n",
      "The generation 79 is: Mutation-Fitness: 0.20803945102966115 Next sigma: -9.427274601880047e+22\n",
      "The generation 80 is: Mutation-Fitness: 0.20803945102966115 Next sigma: 1.8831901162366026e+23\n",
      "The generation 81 is: Mutation-Fitness: 0.20803945102966115 Next sigma: -3.7618560651495e+23\n",
      "The generation 82 is: Mutation-Fitness: 0.20803945102966115 Next sigma: 7.514674664490479e+23\n",
      "The generation 83 is: Mutation-Fitness: 0.20803945102966115 Next sigma: -1.5011296108930449e+24\n",
      "The generation 84 is: Mutation-Fitness: 0.20803945102966115 Next sigma: 2.998652914873317e+24\n",
      "The generation 85 is: Mutation-Fitness: 0.20803945102966115 Next sigma: -5.990101879696325e+24\n",
      "The generation 86 is: Mutation-Fitness: 0.20803945102966115 Next sigma: 1.196581316602869e+25\n",
      "The generation 87 is: Mutation-Fitness: 0.20803945102966115 Next sigma: -2.390287971722515e+25\n",
      "The generation 88 is: Mutation-Fitness: 0.20803945102966115 Next sigma: 4.774833526552187e+25\n",
      "The generation 89 is: Mutation-Fitness: 0.20803945102966115 Next sigma: -9.53819601487477e+25\n",
      "The generation 90 is: Mutation-Fitness: 0.20803945102966115 Next sigma: 1.905347751126012e+26\n",
      "The generation 91 is: Mutation-Fitness: 0.20803945102966115 Next sigma: -3.806118103527584e+26\n",
      "The generation 92 is: Mutation-Fitness: 0.20803945102966115 Next sigma: 7.603092406328051e+26\n",
      "The generation 93 is: Mutation-Fitness: 0.20803945102966115 Next sigma: -1.5187919178226923e+27\n",
      "The generation 94 is: Mutation-Fitness: 0.20803945102966115 Next sigma: 3.0339350968872114e+27\n",
      "The generation 95 is: Mutation-Fitness: 0.20803945102966115 Next sigma: -6.060581481971384e+27\n",
      "The generation 96 is: Mutation-Fitness: 0.20803945102966115 Next sigma: 1.2106603050704594e+28\n",
      "The generation 97 is: Mutation-Fitness: 0.20803945102966115 Next sigma: -2.4184121253601826e+28\n",
      "The generation 98 is: Mutation-Fitness: 0.20803945102966115 Next sigma: 4.831014268489429e+28\n",
      "The generation 99 is: Mutation-Fitness: 0.20803945102966115 Next sigma: -9.65042253039173e+28\n",
      "The generation 100 is: Mutation-Fitness: 0.20803945102966115 Next sigma: 1.927766092982636e+29\n"
     ]
    }
   ],
   "source": [
    "N = 5\n",
    "x = 2 * np.ones(N)\n",
    "generation = 1\n",
    "_lambda = 20\n",
    "sigma = 1.0\n",
    "s_sigma = 0\n",
    "c_sigma = np.sqrt(1 / (N + 1))\n",
    "d = 1 + np.sqrt(1 / N)\n",
    "population = []\n",
    "\n",
    "# 100 Generations\n",
    "while generation <= 100:\n",
    "\n",
    "    # Create lambda offsprings per generation\n",
    "    for o in range(1, _lambda):\n",
    "        # Create and mutate offspring\n",
    "        z = np.random.randn(N)\n",
    "        x_ = x + sigma * z\n",
    "        fitness = sphere_function(x_)\n",
    "        mutation = Mutation(x_, fitness, z)\n",
    "        population.append(mutation)\n",
    "\n",
    "    # Select the 1 best candidate (x_, z) by sorting fitness\n",
    "    population.sort()\n",
    "    population = population[:1]\n",
    "    x = population[0].xm\n",
    "    z = population[0].zm\n",
    "\n",
    "    # Calculate cumulative path length and new step size\n",
    "    s_sigma = (1 - c_sigma) * s_sigma + c_sigma * z\n",
    "    sigma = sigma * np.exp(c_sigma / d) * (((np.linalg.norm(s_sigma) ** 2) / N) - 1)\n",
    "\n",
    "    print(\"The generation\", generation, \"is:\", \", \".join([str(m) for m in population]), \"Next sigma:\", sigma)\n",
    "\n",
    "    generation += 1"
   ],
   "metadata": {
    "collapsed": false,
    "pycharm": {
     "name": "#%%\n"
    }
   }
  },
  {
   "cell_type": "code",
   "execution_count": null,
   "outputs": [],
   "source": [],
   "metadata": {
    "collapsed": false,
    "pycharm": {
     "name": "#%%\n"
    }
   }
  },
  {
   "cell_type": "code",
   "execution_count": null,
   "outputs": [],
   "source": [],
   "metadata": {
    "collapsed": false,
    "pycharm": {
     "name": "#%%\n"
    }
   }
  }
 ],
 "metadata": {
  "kernelspec": {
   "display_name": "Python 3",
   "language": "python",
   "name": "python3"
  },
  "language_info": {
   "codemirror_mode": {
    "name": "ipython",
    "version": 2
   },
   "file_extension": ".py",
   "mimetype": "text/x-python",
   "name": "python",
   "nbconvert_exporter": "python",
   "pygments_lexer": "ipython2",
   "version": "2.7.6"
  }
 },
 "nbformat": 4,
 "nbformat_minor": 0
}