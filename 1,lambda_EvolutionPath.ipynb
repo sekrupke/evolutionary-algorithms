{
 "cells": [
  {
   "cell_type": "markdown",
   "source": [
    "This is an introduction to evolutionary computation in Python with NumPy."
   ],
   "metadata": {
    "collapsed": false,
    "pycharm": {
     "name": "#%% md\n"
    }
   }
  },
  {
   "cell_type": "code",
   "execution_count": 8,
   "outputs": [],
   "source": [
    "import numpy as np"
   ],
   "metadata": {
    "collapsed": false,
    "pycharm": {
     "name": "#%%\n"
    }
   }
  },
  {
   "cell_type": "code",
   "execution_count": 9,
   "outputs": [],
   "source": [
    "class Candidate:\n",
    "    def __init__(self, xm, fit, zm):\n",
    "        self.xm = xm\n",
    "        self.zm = zm\n",
    "        self.fit = fit\n",
    "\n",
    "    def __gt__(self, mutation2):\n",
    "        return self.fit > mutation2.fit\n",
    "\n",
    "    def __str__(self):\n",
    "        return \"Mutation-Fitness: \" + str(self.fit)\n",
    "\n",
    "def sphere_function(value):\n",
    "    return np.dot(value.T, value)\n",
    "\n",
    "\n",
    "def rosenbrock_function(value):\n",
    "    n = len(value)\n",
    "    _sum = 0\n",
    "\n",
    "    for i in range(n - 1):\n",
    "        _sum += 100 * (value[i] ** 2 - value[i+1]) ** 2 + (value[i] - 1) ** 2\n",
    "    return _sum\n",
    "\n",
    "\n",
    "def rastrigin_function(value):\n",
    "    A = 10\n",
    "    n = len(value)\n",
    "    _sum = 0\n",
    "\n",
    "    for i in range(n):\n",
    "        _sum += value[i] ** 2 - A * np.cos(2 * np.pi * value[i])\n",
    "    return A * n + _sum"
   ],
   "metadata": {
    "collapsed": false,
    "pycharm": {
     "name": "#%%\n"
    }
   }
  },
  {
   "cell_type": "code",
   "execution_count": 10,
   "outputs": [
    {
     "name": "stdout",
     "output_type": "stream",
     "text": [
      "The generation 1 is: Mutation-Fitness: 11.140222070296014 Next sigma: 0.7891499269009595\n",
      "The generation 2 is: Mutation-Fitness: 6.641705859614705 Next sigma: 0.6233996236812556\n",
      "The generation 3 is: Mutation-Fitness: 3.1790536268974225 Next sigma: 0.5007220409894902\n",
      "The generation 4 is: Mutation-Fitness: 0.7682919641811505 Next sigma: 0.4115510085238263\n",
      "The generation 5 is: Mutation-Fitness: 0.6471551836743449 Next sigma: 0.33519780496173757\n",
      "The generation 6 is: Mutation-Fitness: 0.33806135968438733 Next sigma: 0.28766844259178953\n",
      "The generation 7 is: Mutation-Fitness: 0.33806135968438733 Next sigma: 0.2800530235860281\n",
      "The generation 8 is: Mutation-Fitness: 0.16991753828870731 Next sigma: 0.22277653777709638\n",
      "The generation 9 is: Mutation-Fitness: 0.09594206453538225 Next sigma: 0.17833244006441537\n",
      "The generation 10 is: Mutation-Fitness: 0.06814072323162955 Next sigma: 0.13842901235322497\n",
      "The generation 11 is: Mutation-Fitness: 0.04357609883973319 Next sigma: 0.10499422434590075\n",
      "The generation 12 is: Mutation-Fitness: 0.030167745582075085 Next sigma: 0.0800670707507904\n",
      "The generation 13 is: Mutation-Fitness: 0.016878710080813392 Next sigma: 0.0616094322276799\n",
      "The generation 14 is: Mutation-Fitness: 0.008571318958977954 Next sigma: 0.048334906563283195\n",
      "The generation 15 is: Mutation-Fitness: 0.00811507801589441 Next sigma: 0.036603336902029895\n",
      "The generation 16 is: Mutation-Fitness: 0.005079443342654818 Next sigma: 0.031943377088712685\n",
      "The generation 17 is: Mutation-Fitness: 0.002499466397916379 Next sigma: 0.024443977109696324\n",
      "The generation 18 is: Mutation-Fitness: 0.0012941006110580488 Next sigma: 0.019029652687210036\n",
      "The generation 19 is: Mutation-Fitness: 0.0012941006110580488 Next sigma: 0.01529568342407663\n",
      "The generation 20 is: Mutation-Fitness: 0.0012941006110580488 Next sigma: 0.012625029737439107\n",
      "The generation 21 is: Mutation-Fitness: 0.0008694153739274189 Next sigma: 0.009997788332586157\n",
      "The generation 22 is: Mutation-Fitness: 0.0004456553082456224 Next sigma: 0.008984876967905736\n",
      "The generation 23 is: Mutation-Fitness: 0.0001993990407379505 Next sigma: 0.007107888585673509\n",
      "The generation 24 is: Mutation-Fitness: 4.162362498631127e-05 Next sigma: 0.005451608332599313\n",
      "The generation 25 is: Mutation-Fitness: 4.162362498631127e-05 Next sigma: 0.004245823941114495\n",
      "The generation 26 is: Mutation-Fitness: 2.773234339093421e-05 Next sigma: 0.0033339432622621675\n",
      "The generation 27 is: Mutation-Fitness: 1.9591785574325855e-05 Next sigma: 0.0026071764685340077\n",
      "The generation 28 is: Mutation-Fitness: 1.2505074730695449e-05 Next sigma: 0.002080857904388237\n",
      "The generation 29 is: Mutation-Fitness: 8.467303525256765e-06 Next sigma: 0.0016143111908328723\n",
      "The generation 30 is: Mutation-Fitness: 2.758953903997097e-06 Next sigma: 0.0012396961324772217\n",
      "The generation 31 is: Mutation-Fitness: 2.2929606084781757e-06 Next sigma: 0.0009729696928260541\n",
      "The generation 32 is: Mutation-Fitness: 9.252366682165657e-07 Next sigma: 0.0007450641378847067\n",
      "The generation 33 is: Mutation-Fitness: 9.252366682165657e-07 Next sigma: 0.000598883145551004\n",
      "The generation 34 is: Mutation-Fitness: 2.865752536236782e-07 Next sigma: 0.0004548945644236989\n",
      "The generation 35 is: Mutation-Fitness: 2.865752536236782e-07 Next sigma: 0.000352208945558558\n",
      "The generation 36 is: Mutation-Fitness: 1.556254050836504e-07 Next sigma: 0.0002675596089592592\n",
      "The generation 37 is: Mutation-Fitness: 6.721693195895289e-08 Next sigma: 0.00020483460953727396\n",
      "The generation 38 is: Mutation-Fitness: 4.9212781702442754e-08 Next sigma: 0.0001622577038326302\n",
      "The generation 39 is: Mutation-Fitness: 2.744601556968502e-08 Next sigma: 0.00012485122068385646\n",
      "The generation 40 is: Mutation-Fitness: 2.744601556968502e-08 Next sigma: 9.726416638164786e-05\n",
      "The generation 41 is: Mutation-Fitness: 2.744601556968502e-08 Next sigma: 7.712362329580563e-05\n",
      "The generation 42 is: Mutation-Fitness: 1.5868369994322116e-08 Next sigma: 5.8736909412985186e-05\n",
      "The generation 43 is: Mutation-Fitness: 7.202985748002908e-09 Next sigma: 4.579088885516743e-05\n",
      "The generation 44 is: Mutation-Fitness: 3.5520629305997443e-09 Next sigma: 3.578403397206018e-05\n",
      "The generation 45 is: Mutation-Fitness: 2.64376339825818e-09 Next sigma: 2.795494489626983e-05\n",
      "The generation 46 is: Mutation-Fitness: 1.6545292299179914e-09 Next sigma: 2.218781465689697e-05\n",
      "The generation 47 is: Mutation-Fitness: 1.6545292299179914e-09 Next sigma: 1.867569034988728e-05\n",
      "The generation 48 is: Mutation-Fitness: 8.110365041795949e-10 Next sigma: 1.5166582698039786e-05\n",
      "The generation 49 is: Mutation-Fitness: 3.2038989438659637e-10 Next sigma: 1.1684620921401488e-05\n",
      "The generation 50 is: Mutation-Fitness: 2.3395754690702055e-10 Next sigma: 8.99768394054532e-06\n",
      "The generation 51 is: Mutation-Fitness: 1.360234330373979e-10 Next sigma: 6.825058541504939e-06\n",
      "The generation 52 is: Mutation-Fitness: 6.69649091292451e-11 Next sigma: 5.4796633829848585e-06\n",
      "The generation 53 is: Mutation-Fitness: 5.417530100236196e-11 Next sigma: 4.193517655053105e-06\n",
      "The generation 54 is: Mutation-Fitness: 1.784601593368286e-11 Next sigma: 3.227663347634184e-06\n",
      "The generation 55 is: Mutation-Fitness: 5.070716020360178e-12 Next sigma: 2.4680146135286937e-06\n",
      "The generation 56 is: Mutation-Fitness: 5.070716020360178e-12 Next sigma: 1.9269735970562715e-06\n",
      "The generation 57 is: Mutation-Fitness: 5.070716020360178e-12 Next sigma: 1.536513110507837e-06\n",
      "The generation 58 is: Mutation-Fitness: 5.070716020360178e-12 Next sigma: 1.2442845875908635e-06\n",
      "The generation 59 is: Mutation-Fitness: 2.6007663414048147e-12 Next sigma: 9.734084504736666e-07\n",
      "The generation 60 is: Mutation-Fitness: 1.3298352158619492e-12 Next sigma: 7.515595752344187e-07\n",
      "The generation 61 is: Mutation-Fitness: 1.3298352158619492e-12 Next sigma: 6.097149596093716e-07\n",
      "The generation 62 is: Mutation-Fitness: 9.978156251174477e-13 Next sigma: 4.786825589881789e-07\n",
      "The generation 63 is: Mutation-Fitness: 5.795969055534207e-13 Next sigma: 3.708425502491093e-07\n",
      "The generation 64 is: Mutation-Fitness: 2.4320921081136e-13 Next sigma: 2.8408978120770195e-07\n",
      "The generation 65 is: Mutation-Fitness: 2.1833640322616398e-13 Next sigma: 2.1975220211768005e-07\n",
      "The generation 66 is: Mutation-Fitness: 6.061500104058775e-14 Next sigma: 1.7459150492973294e-07\n",
      "The generation 67 is: Mutation-Fitness: 6.061500104058775e-14 Next sigma: 1.5143806342652516e-07\n",
      "The generation 68 is: Mutation-Fitness: 6.061500104058775e-14 Next sigma: 1.4188901484330386e-07\n",
      "The generation 69 is: Mutation-Fitness: 3.354444009844791e-14 Next sigma: 1.1109381308145717e-07\n",
      "The generation 70 is: Mutation-Fitness: 1.742168125907239e-14 Next sigma: 8.748979230842459e-08\n",
      "The generation 71 is: Mutation-Fitness: 3.298772369467065e-15 Next sigma: 6.807595226128856e-08\n",
      "The generation 72 is: Mutation-Fitness: 3.298772369467065e-15 Next sigma: 5.377293367058387e-08\n",
      "The generation 73 is: Mutation-Fitness: 3.298772369467065e-15 Next sigma: 4.3188876835796305e-08\n",
      "The generation 74 is: Mutation-Fitness: 2.7090980236877277e-15 Next sigma: 3.321340405061784e-08\n",
      "The generation 75 is: Mutation-Fitness: 2.0624771104452387e-15 Next sigma: 2.685991827895083e-08\n",
      "The generation 76 is: Mutation-Fitness: 1.2658642867108443e-15 Next sigma: 2.088442605950878e-08\n",
      "The generation 77 is: Mutation-Fitness: 4.922191349722819e-16 Next sigma: 1.5840096103765413e-08\n",
      "The generation 78 is: Mutation-Fitness: 4.536427604032694e-16 Next sigma: 1.2153615499342903e-08\n",
      "The generation 79 is: Mutation-Fitness: 9.776313061611934e-17 Next sigma: 9.304652637240263e-09\n",
      "The generation 80 is: Mutation-Fitness: 9.776313061611934e-17 Next sigma: 7.431306382783633e-09\n",
      "The generation 81 is: Mutation-Fitness: 9.776313061611934e-17 Next sigma: 6.179183045689343e-09\n",
      "The generation 82 is: Mutation-Fitness: 2.0865840619009e-17 Next sigma: 4.9172137885979015e-09\n",
      "The generation 83 is: Mutation-Fitness: 2.0865840619009e-17 Next sigma: 4.104428872739012e-09\n",
      "The generation 84 is: Mutation-Fitness: 1.377634307034227e-17 Next sigma: 3.173198541770647e-09\n",
      "The generation 85 is: Mutation-Fitness: 1.0846736029756334e-17 Next sigma: 2.4783996486687462e-09\n",
      "The generation 86 is: Mutation-Fitness: 1.0846736029756334e-17 Next sigma: 2.054854419215911e-09\n",
      "The generation 87 is: Mutation-Fitness: 4.705911336846754e-18 Next sigma: 1.5791169443083928e-09\n",
      "The generation 88 is: Mutation-Fitness: 3.1312095507606373e-18 Next sigma: 1.200207264348454e-09\n",
      "The generation 89 is: Mutation-Fitness: 1.7454708009640677e-18 Next sigma: 9.224491288243077e-10\n",
      "The generation 90 is: Mutation-Fitness: 3.4745625579138017e-19 Next sigma: 6.99326425154051e-10\n",
      "The generation 91 is: Mutation-Fitness: 3.4745625579138017e-19 Next sigma: 5.407619014691e-10\n",
      "The generation 92 is: Mutation-Fitness: 2.9754561931746596e-19 Next sigma: 4.2275318703994876e-10\n",
      "The generation 93 is: Mutation-Fitness: 2.9754561931746596e-19 Next sigma: 3.4028462334026113e-10\n",
      "The generation 94 is: Mutation-Fitness: 1.731141199632965e-19 Next sigma: 2.5980688810175006e-10\n",
      "The generation 95 is: Mutation-Fitness: 6.833610403709172e-20 Next sigma: 2.0037786892654526e-10\n",
      "The generation 96 is: Mutation-Fitness: 6.833610403709172e-20 Next sigma: 1.5787910268526404e-10\n",
      "The generation 97 is: Mutation-Fitness: 4.0315268315489333e-20 Next sigma: 1.2779355580089638e-10\n",
      "The generation 98 is: Mutation-Fitness: 2.7310798348684687e-20 Next sigma: 9.758901354230415e-11\n",
      "The generation 99 is: Mutation-Fitness: 1.6823225233219497e-20 Next sigma: 7.552073246706783e-11\n",
      "The generation 100 is: Mutation-Fitness: 9.299857464763193e-21 Next sigma: 5.889644679678995e-11\n"
     ]
    }
   ],
   "source": [
    "N = 5\n",
    "x = 2 * np.ones(N)\n",
    "generation = 1\n",
    "_lambda = 20\n",
    "sigma = 1.0\n",
    "s_sigma = 0\n",
    "c_sigma = np.sqrt(1 / (N + 1))\n",
    "d = 1 + np.sqrt(1 / N)\n",
    "population = []\n",
    "\n",
    "# 100 Generations\n",
    "while generation <= 100:\n",
    "\n",
    "    # Create lambda offsprings per generation\n",
    "    for o in range(1, _lambda):\n",
    "        # Create and mutate offspring\n",
    "        z = np.random.randn(N)\n",
    "        x_ = x + sigma * z\n",
    "        fitness = sphere_function(x_)\n",
    "        candidate = Candidate(x_, fitness, z)\n",
    "        population.append(candidate)\n",
    "\n",
    "    # Select the 1 best candidate (x_, z) by sorting fitness\n",
    "    population.sort()\n",
    "    population = population[:1]\n",
    "    best = population[0]\n",
    "    x = best.xm\n",
    "    z = best.zm\n",
    "\n",
    "    # Calculate cumulative path length and new step size\n",
    "    s_sigma = (1 - c_sigma) * s_sigma + c_sigma * z\n",
    "    sigma = sigma * np.exp((c_sigma / d) * (((np.linalg.norm(s_sigma) ** 2) / N) - 1))\n",
    "\n",
    "    print(\"The generation\", generation, \"is:\", \", \".join([str(m) for m in population]), \"Next sigma:\", sigma)\n",
    "\n",
    "    generation += 1"
   ],
   "metadata": {
    "collapsed": false,
    "pycharm": {
     "name": "#%%\n"
    }
   }
  },
  {
   "cell_type": "markdown",
   "source": [
    "# Benchmark Results\n",
    "## Sphere:\n",
    "The generation 100 is: Mutation-Fitness: 4.1811133678563526e-20 Next sigma: 8.259301799414615e-11\n",
    "\n",
    "## Rosenbrock:\n",
    "The generation 100 is: Mutation-Fitness: 0.061012896646217576 Next sigma: 2.0951015748869715e-06\n",
    "\n",
    "## Rastrigin:\n",
    "The generation 100 is: Mutation-Fitness: 11.939493571662261 Next sigma: 5.044363117839991e-10"
   ],
   "metadata": {
    "collapsed": false,
    "pycharm": {
     "name": "#%% md\n"
    }
   }
  },
  {
   "cell_type": "code",
   "execution_count": null,
   "outputs": [],
   "source": [],
   "metadata": {
    "collapsed": false,
    "pycharm": {
     "name": "#%%\n"
    }
   }
  }
 ],
 "metadata": {
  "kernelspec": {
   "display_name": "Python 3",
   "language": "python",
   "name": "python3"
  },
  "language_info": {
   "codemirror_mode": {
    "name": "ipython",
    "version": 2
   },
   "file_extension": ".py",
   "mimetype": "text/x-python",
   "name": "python",
   "nbconvert_exporter": "python",
   "pygments_lexer": "ipython2",
   "version": "2.7.6"
  }
 },
 "nbformat": 4,
 "nbformat_minor": 0
}