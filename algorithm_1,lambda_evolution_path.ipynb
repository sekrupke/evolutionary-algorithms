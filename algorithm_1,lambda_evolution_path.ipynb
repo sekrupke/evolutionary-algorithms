{
 "cells": [
  {
   "cell_type": "markdown",
   "source": [
    "This is an introduction to evolutionary computation in Python with NumPy."
   ],
   "metadata": {
    "collapsed": false,
    "pycharm": {
     "name": "#%% md\n"
    }
   }
  },
  {
   "cell_type": "code",
   "execution_count": 31,
   "outputs": [],
   "source": [
    "import numpy as np"
   ],
   "metadata": {
    "collapsed": false,
    "pycharm": {
     "name": "#%%\n"
    }
   }
  },
  {
   "cell_type": "code",
   "execution_count": 32,
   "outputs": [],
   "source": [
    "class Mutation:\n",
    "    def __init__(self, xm, fit, zm):\n",
    "        self.xm = xm\n",
    "        self.zm = zm\n",
    "        self.fit = fit\n",
    "\n",
    "    def __gt__(self, mutation2):\n",
    "        return self.fit > mutation2.fit\n",
    "\n",
    "    def __str__(self):\n",
    "        return \"Mutation-Fitness: \" + str(self.fit)\n",
    "\n",
    "def sphere_function(value):\n",
    "    return np.dot(value.T, value)\n",
    "\n",
    "\n",
    "def rosenbrock_function(value):\n",
    "    n = len(value)\n",
    "    _sum = 0\n",
    "\n",
    "    for i in range(n - 1):\n",
    "        _sum += 100 * (value[i] ** 2 - value[i+1]) ** 2 + (value[i] - 1) ** 2\n",
    "    return _sum\n",
    "\n",
    "\n",
    "def rastrigin_function(value):\n",
    "    A = 10\n",
    "    n = len(value)\n",
    "    _sum = 0\n",
    "\n",
    "    for i in range(n):\n",
    "        _sum += value[i] ** 2 - A * np.cos(2 * np.pi * value[i])\n",
    "    return A * n + _sum"
   ],
   "metadata": {
    "collapsed": false,
    "pycharm": {
     "name": "#%%\n"
    }
   }
  },
  {
   "cell_type": "code",
   "execution_count": 33,
   "outputs": [
    {
     "name": "stdout",
     "output_type": "stream",
     "text": [
      "The generation 1 is: Mutation-Fitness: 4.21561886998566 Next sigma: -0.8141335828054515\n",
      "The generation 2 is: Mutation-Fitness: 3.050839807599768 Next sigma: 0.9341342186461613\n",
      "The generation 3 is: Mutation-Fitness: 1.2265841922054292 Next sigma: -0.9308488430002027\n",
      "The generation 4 is: Mutation-Fitness: 1.0783467199182644 Next sigma: 1.0602256810241788\n",
      "The generation 5 is: Mutation-Fitness: 0.9803255151725998 Next sigma: -1.3189930535328973\n",
      "The generation 6 is: Mutation-Fitness: 0.9803255151725998 Next sigma: 1.667840201684518\n",
      "The generation 7 is: Mutation-Fitness: 0.9803255151725998 Next sigma: -2.1047010289313794\n",
      "The generation 8 is: Mutation-Fitness: 0.9803255151725998 Next sigma: 2.642036715977116\n",
      "The generation 9 is: Mutation-Fitness: 0.9803255151725998 Next sigma: -3.3014524825500686\n",
      "The generation 10 is: Mutation-Fitness: 0.9803255151725998 Next sigma: 4.1122079643756235\n",
      "The generation 11 is: Mutation-Fitness: 0.9803255151725998 Next sigma: -5.111400898679821\n",
      "The generation 12 is: Mutation-Fitness: 0.9803255151725998 Next sigma: 6.345142345710051\n",
      "The generation 13 is: Mutation-Fitness: 0.9803255151725998 Next sigma: -7.870450375419153\n",
      "The generation 14 is: Mutation-Fitness: 0.9803255151725998 Next sigma: 9.757785579203865\n",
      "The generation 15 is: Mutation-Fitness: 0.9803255151725998 Next sigma: -12.094266574630735\n",
      "The generation 16 is: Mutation-Fitness: 0.9803255151725998 Next sigma: 14.987677766722324\n",
      "The generation 17 is: Mutation-Fitness: 0.9803255151725998 Next sigma: -18.571438396499694\n",
      "The generation 18 is: Mutation-Fitness: 0.9803255151725998 Next sigma: 23.01075537113646\n",
      "The generation 19 is: Mutation-Fitness: 0.9803255151725998 Next sigma: -28.510240911634874\n",
      "The generation 20 is: Mutation-Fitness: 0.9803255151725998 Next sigma: 35.323345223233595\n",
      "The generation 21 is: Mutation-Fitness: 0.9803255151725998 Next sigma: -43.76403868939204\n",
      "The generation 22 is: Mutation-Fitness: 0.9803255151725998 Next sigma: 54.22128198069079\n",
      "The generation 23 is: Mutation-Fitness: 0.9803255151725998 Next sigma: -67.17695099662943\n",
      "The generation 24 is: Mutation-Fitness: 0.9803255151725998 Next sigma: 83.22804275136255\n",
      "The generation 25 is: Mutation-Fitness: 0.9803255151725998 Next sigma: -103.11418555369264\n",
      "The generation 26 is: Mutation-Fitness: 0.9803255151725998 Next sigma: 127.75172122296952\n",
      "The generation 27 is: Mutation-Fitness: 0.9803255151725998 Next sigma: -158.2759298932154\n",
      "The generation 28 is: Mutation-Fitness: 0.9803255151725998 Next sigma: 196.0933431425017\n",
      "The generation 29 is: Mutation-Fitness: 0.9803255151725998 Next sigma: -242.9465560313275\n",
      "The generation 30 is: Mutation-Fitness: 0.9803255151725998 Next sigma: 300.9945245615109\n",
      "The generation 31 is: Mutation-Fitness: 0.9803255151725998 Next sigma: -372.91204861340003\n",
      "The generation 32 is: Mutation-Fitness: 0.9803255151725998 Next sigma: 462.01302446295455\n",
      "The generation 33 is: Mutation-Fitness: 0.9803255151725998 Next sigma: -572.403146256871\n",
      "The generation 34 is: Mutation-Fitness: 0.9803255151725998 Next sigma: 709.1690928023895\n",
      "The generation 35 is: Mutation-Fitness: 0.9803255151725998 Next sigma: -878.6129172367783\n",
      "The generation 36 is: Mutation-Fitness: 0.9803255151725998 Next sigma: 1088.5424400480997\n",
      "The generation 37 is: Mutation-Fitness: 0.9803255151725998 Next sigma: -1348.6310265020247\n",
      "The generation 38 is: Mutation-Fitness: 0.9803255151725998 Next sigma: 1670.8633267000384\n",
      "The generation 39 is: Mutation-Fitness: 0.9803255151725998 Next sigma: -2070.0875175750207\n",
      "The generation 40 is: Mutation-Fitness: 0.9803255151725998 Next sigma: 2564.699493643915\n",
      "The generation 41 is: Mutation-Fitness: 0.9803255151725998 Next sigma: -3177.4905334178015\n",
      "The generation 42 is: Mutation-Fitness: 0.9803255151725998 Next sigma: 3936.6975011818113\n",
      "The generation 43 is: Mutation-Fitness: 0.9803255151725998 Next sigma: -4877.3039765062285\n",
      "The generation 44 is: Mutation-Fitness: 0.9803255151725998 Next sigma: 6042.652266375892\n",
      "The generation 45 is: Mutation-Fitness: 0.9803255151725998 Next sigma: -7486.440580018505\n",
      "The generation 46 is: Mutation-Fitness: 0.9803255151725998 Next sigma: 9275.19739446584\n",
      "The generation 47 is: Mutation-Fitness: 0.9803255151725998 Next sigma: -11491.34702740486\n",
      "The generation 48 is: Mutation-Fitness: 0.9803255151725998 Next sigma: 14237.007676180072\n",
      "The generation 49 is: Mutation-Fitness: 0.9803255151725998 Next sigma: -17638.696933194937\n",
      "The generation 50 is: Mutation-Fitness: 0.9803255151725998 Next sigma: 21853.1616036628\n",
      "The generation 51 is: Mutation-Fitness: 0.9803255151725998 Next sigma: -27074.60045850666\n",
      "The generation 52 is: Mutation-Fitness: 0.9803255151725998 Next sigma: 33543.61274041564\n",
      "The generation 53 is: Mutation-Fitness: 0.9803255151725998 Next sigma: -41558.284762231495\n",
      "The generation 54 is: Mutation-Fitness: 0.9803255151725998 Next sigma: 51487.92545822467\n",
      "The generation 55 is: Mutation-Fitness: 0.9803255151725998 Next sigma: -63790.083810205026\n",
      "The generation 56 is: Mutation-Fitness: 0.9803255151725998 Next sigma: 79031.63229627538\n",
      "The generation 57 is: Mutation-Fitness: 0.9803255151725998 Next sigma: -97914.88786873124\n",
      "The generation 58 is: Mutation-Fitness: 0.9803255151725998 Next sigma: 121309.97409245723\n",
      "The generation 59 is: Mutation-Fitness: 0.9803255151725998 Next sigma: -150294.9156622767\n",
      "The generation 60 is: Mutation-Fitness: 0.9803255151725998 Next sigma: 186205.31281883284\n",
      "The generation 61 is: Mutation-Fitness: 0.9803255151725998 Next sigma: -230695.884615754\n",
      "The generation 62 is: Mutation-Fitness: 0.9803255151725998 Next sigma: 285816.7168969319\n",
      "The generation 63 is: Mutation-Fitness: 0.9803255151725998 Next sigma: -354107.72842265957\n",
      "The generation 64 is: Mutation-Fitness: 0.9803255151725998 Next sigma: 438715.70805941836\n",
      "The generation 65 is: Mutation-Fitness: 0.9803255151725998 Next sigma: -543539.316002571\n",
      "The generation 66 is: Mutation-Fitness: 0.9803255151725998 Next sigma: 673408.7305589014\n",
      "The generation 67 is: Mutation-Fitness: 0.9803255151725998 Next sigma: -834308.2184524182\n",
      "The generation 68 is: Mutation-Fitness: 0.9803255151725998 Next sigma: 1033651.8844944856\n",
      "The generation 69 is: Mutation-Fitness: 0.9803255151725998 Next sigma: -1280625.3069169973\n",
      "The generation 70 is: Mutation-Fitness: 0.9803255151725998 Next sigma: 1586608.8006198595\n",
      "The generation 71 is: Mutation-Fitness: 0.9803255151725998 Next sigma: -1965701.811925498\n",
      "The generation 72 is: Mutation-Fitness: 0.9803255151725998 Next sigma: 2435372.6084826943\n",
      "The generation 73 is: Mutation-Fitness: 0.9803255151725998 Next sigma: -3017263.2014507167\n",
      "The generation 74 is: Mutation-Fitness: 0.9803255151725998 Next sigma: 3738186.5900596622\n",
      "The generation 75 is: Mutation-Fitness: 0.9803255151725998 Next sigma: -4631362.280686382\n",
      "The generation 76 is: Mutation-Fitness: 0.9803255151725998 Next sigma: 5737947.012062399\n",
      "The generation 77 is: Mutation-Fitness: 0.9803255151725998 Next sigma: -7108931.221065342\n",
      "The generation 78 is: Mutation-Fitness: 0.9803255151725998 Next sigma: 8807488.636545116\n",
      "The generation 79 is: Mutation-Fitness: 0.9803255151725998 Next sigma: -10911887.268371468\n",
      "The generation 80 is: Mutation-Fitness: 0.9803255151725998 Next sigma: 13519095.927480442\n",
      "The generation 81 is: Mutation-Fitness: 0.9803255151725998 Next sigma: -16749252.462144887\n",
      "The generation 82 is: Mutation-Fitness: 0.9803255151725998 Next sigma: 20751199.60280883\n",
      "The generation 83 is: Mutation-Fitness: 0.9803255151725998 Next sigma: -25709343.502275303\n",
      "The generation 84 is: Mutation-Fitness: 0.9803255151725998 Next sigma: 31852151.00665882\n",
      "The generation 85 is: Mutation-Fitness: 0.9803255151725998 Next sigma: -39462677.20376473\n",
      "The generation 86 is: Mutation-Fitness: 0.9803255151725998 Next sigma: 48891608.34892978\n",
      "The generation 87 is: Mutation-Fitness: 0.9803255151725998 Next sigma: -60573421.17470676\n",
      "The generation 88 is: Mutation-Fitness: 0.9803255151725998 Next sigma: 75046403.1909625\n",
      "The generation 89 is: Mutation-Fitness: 0.9803255151725998 Next sigma: -92977456.4929512\n",
      "The generation 90 is: Mutation-Fitness: 0.9803255151725998 Next sigma: 115192828.01470342\n",
      "The generation 91 is: Mutation-Fitness: 0.9803255151725998 Next sigma: -142716182.25038257\n",
      "The generation 92 is: Mutation-Fitness: 0.9803255151725998 Next sigma: 176815770.80063197\n",
      "The generation 93 is: Mutation-Fitness: 0.9803255151725998 Next sigma: -219062872.27451256\n",
      "The generation 94 is: Mutation-Fitness: 0.9803255151725998 Next sigma: 271404195.40555984\n",
      "The generation 95 is: Mutation-Fitness: 0.9803255151725998 Next sigma: -336251581.6529331\n",
      "The generation 96 is: Mutation-Fitness: 0.9803255151725998 Next sigma: 416593140.70346516\n",
      "The generation 97 is: Mutation-Fitness: 0.9803255151725998 Next sigma: -516130939.899367\n",
      "The generation 98 is: Mutation-Fitness: 0.9803255151725998 Next sigma: 639451592.1975385\n",
      "The generation 99 is: Mutation-Fitness: 0.9803255151725998 Next sigma: -792237603.201413\n",
      "The generation 100 is: Mutation-Fitness: 0.9803255151725998 Next sigma: 981529215.9479523\n"
     ]
    }
   ],
   "source": [
    "N = 5\n",
    "x = 2 * np.ones(N)\n",
    "generation = 1\n",
    "_lambda = 20\n",
    "sigma = 1.0\n",
    "s_sigma = 0\n",
    "c_sigma = np.sqrt(1 / (N + 1))\n",
    "d = 1 + np.sqrt(1 / N)\n",
    "population = []\n",
    "\n",
    "# 100 Generations\n",
    "while generation <= 100:\n",
    "\n",
    "    # Create lambda offsprings per generation\n",
    "    for o in range(1, _lambda):\n",
    "        # Create and mutate offspring\n",
    "        z = np.random.randn(N)\n",
    "        x_ = x + sigma * z\n",
    "        fitness = sphere_function(x_)\n",
    "        mutation = Mutation(x_, fitness, z)\n",
    "        population.append(mutation)\n",
    "\n",
    "    # Select the 1 best candidate (x_, z) by sorting fitness\n",
    "    population.sort()\n",
    "    population = population[:1]\n",
    "    x = population[0].xm\n",
    "    z = population[0].zm\n",
    "\n",
    "    # Calculate cumulative path length and new step size\n",
    "    s_sigma = (1 - c_sigma) * s_sigma + c_sigma * z\n",
    "    sigma = sigma * np.exp(c_sigma / d) * (((np.linalg.norm(s_sigma) ** 2) / N) - 1)\n",
    "\n",
    "    print(\"The generation\", generation, \"is:\", \", \".join([str(m) for m in population]), \"Next sigma:\", sigma)\n",
    "\n",
    "    generation += 1"
   ],
   "metadata": {
    "collapsed": false,
    "pycharm": {
     "name": "#%%\n"
    }
   }
  },
  {
   "cell_type": "code",
   "execution_count": null,
   "outputs": [],
   "source": [],
   "metadata": {
    "collapsed": false,
    "pycharm": {
     "name": "#%%\n"
    }
   }
  },
  {
   "cell_type": "code",
   "execution_count": null,
   "outputs": [],
   "source": [],
   "metadata": {
    "collapsed": false,
    "pycharm": {
     "name": "#%%\n"
    }
   }
  }
 ],
 "metadata": {
  "kernelspec": {
   "display_name": "Python 3",
   "language": "python",
   "name": "python3"
  },
  "language_info": {
   "codemirror_mode": {
    "name": "ipython",
    "version": 2
   },
   "file_extension": ".py",
   "mimetype": "text/x-python",
   "name": "python",
   "nbconvert_exporter": "python",
   "pygments_lexer": "ipython2",
   "version": "2.7.6"
  }
 },
 "nbformat": 4,
 "nbformat_minor": 0
}