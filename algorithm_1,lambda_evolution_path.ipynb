{
 "cells": [
  {
   "cell_type": "markdown",
   "source": [
    "This is an introduction to evolutionary computation in Python with NumPy."
   ],
   "metadata": {
    "collapsed": false,
    "pycharm": {
     "name": "#%% md\n"
    }
   }
  },
  {
   "cell_type": "code",
   "execution_count": 25,
   "outputs": [],
   "source": [
    "import numpy as np"
   ],
   "metadata": {
    "collapsed": false,
    "pycharm": {
     "name": "#%%\n"
    }
   }
  },
  {
   "cell_type": "code",
   "execution_count": 26,
   "outputs": [],
   "source": [
    "class Mutation:\n",
    "    def __init__(self, xm, fit, zm):\n",
    "        self.xm = xm\n",
    "        self.zm = zm\n",
    "        self.fit = fit\n",
    "\n",
    "    def __gt__(self, mutation2):\n",
    "        return self.fit > mutation2.fit\n",
    "\n",
    "    def __str__(self):\n",
    "        return \"Mutation-Fitness: \" + str(self.fit)\n",
    "\n",
    "def sphere_function(value):\n",
    "    return np.dot(value.T, value)\n",
    "\n",
    "\n",
    "def rosenbrock_function(value):\n",
    "    n = len(value)\n",
    "    _sum = 0\n",
    "\n",
    "    for i in range(n - 1):\n",
    "        _sum += 100 * (value[i] ** 2 - value[i+1]) ** 2 + (value[i] - 1) ** 2\n",
    "    return _sum\n",
    "\n",
    "\n",
    "def rastrigin_function(value):\n",
    "    A = 10\n",
    "    n = len(value)\n",
    "    _sum = 0\n",
    "\n",
    "    for i in range(n):\n",
    "        _sum += value[i] ** 2 - A * np.cos(2 * np.pi * value[i])\n",
    "    return A * n + _sum"
   ],
   "metadata": {
    "collapsed": false,
    "pycharm": {
     "name": "#%%\n"
    }
   }
  },
  {
   "cell_type": "code",
   "execution_count": 34,
   "outputs": [
    {
     "name": "stdout",
     "output_type": "stream",
     "text": [
      "The generation 1 is: Mutation-Fitness: 9.480240662246581 Next sigma: 0.8514145367001976\n",
      "The generation 2 is: Mutation-Fitness: 5.819307226497939 Next sigma: 0.6868983921009143\n",
      "The generation 3 is: Mutation-Fitness: 2.6951454200977625 Next sigma: 0.5513201655870669\n",
      "The generation 4 is: Mutation-Fitness: 1.8201710485550746 Next sigma: 0.4532905670674254\n",
      "The generation 5 is: Mutation-Fitness: 1.267055915141378 Next sigma: 0.3530515811466635\n",
      "The generation 6 is: Mutation-Fitness: 0.3336606269302568 Next sigma: 0.2872654871848836\n",
      "The generation 7 is: Mutation-Fitness: 0.2592431520440471 Next sigma: 0.22353813988567547\n",
      "The generation 8 is: Mutation-Fitness: 0.09859406891527034 Next sigma: 0.19020499865473384\n",
      "The generation 9 is: Mutation-Fitness: 0.06633783879444487 Next sigma: 0.14636242381521913\n",
      "The generation 10 is: Mutation-Fitness: 0.03916233106200799 Next sigma: 0.11415582101266196\n",
      "The generation 11 is: Mutation-Fitness: 0.02025102771316284 Next sigma: 0.08809905110603096\n",
      "The generation 12 is: Mutation-Fitness: 0.01771716472501207 Next sigma: 0.0693649305357824\n",
      "The generation 13 is: Mutation-Fitness: 0.012054079472270374 Next sigma: 0.05315220940245591\n",
      "The generation 14 is: Mutation-Fitness: 0.005802634313292371 Next sigma: 0.041440529244488745\n",
      "The generation 15 is: Mutation-Fitness: 0.004157476836617426 Next sigma: 0.03152201770891945\n",
      "The generation 16 is: Mutation-Fitness: 0.002239301284667064 Next sigma: 0.0243537108877191\n",
      "The generation 17 is: Mutation-Fitness: 0.00034361129545086556 Next sigma: 0.01910260673028268\n",
      "The generation 18 is: Mutation-Fitness: 0.00034361129545086556 Next sigma: 0.015586924361271067\n",
      "The generation 19 is: Mutation-Fitness: 0.0003357636833839665 Next sigma: 0.012155500502830848\n",
      "The generation 20 is: Mutation-Fitness: 6.7424302633701e-05 Next sigma: 0.00934101480607786\n",
      "The generation 21 is: Mutation-Fitness: 4.502459363047206e-05 Next sigma: 0.007105631627606913\n",
      "The generation 22 is: Mutation-Fitness: 4.502459363047206e-05 Next sigma: 0.005395757974335478\n",
      "The generation 23 is: Mutation-Fitness: 4.4388102017989206e-05 Next sigma: 0.00419121276735969\n",
      "The generation 24 is: Mutation-Fitness: 2.0698029279279875e-05 Next sigma: 0.0032864879130728554\n",
      "The generation 25 is: Mutation-Fitness: 2.0698029279279875e-05 Next sigma: 0.002749839839496044\n",
      "The generation 26 is: Mutation-Fitness: 1.356143106403413e-05 Next sigma: 0.002185246550161498\n",
      "The generation 27 is: Mutation-Fitness: 6.89926742867839e-06 Next sigma: 0.0016655209470161022\n",
      "The generation 28 is: Mutation-Fitness: 3.45794535771911e-06 Next sigma: 0.0012865155165069104\n",
      "The generation 29 is: Mutation-Fitness: 2.0587173032920337e-06 Next sigma: 0.0009740478368198331\n",
      "The generation 30 is: Mutation-Fitness: 8.949329839401447e-07 Next sigma: 0.0007614687855710668\n",
      "The generation 31 is: Mutation-Fitness: 6.121506318675712e-07 Next sigma: 0.000579896581745004\n",
      "The generation 32 is: Mutation-Fitness: 6.121506318675712e-07 Next sigma: 0.0004533390391354251\n",
      "The generation 33 is: Mutation-Fitness: 3.498815046206119e-07 Next sigma: 0.0003470536717952617\n",
      "The generation 34 is: Mutation-Fitness: 6.450526417920959e-08 Next sigma: 0.000264770144855364\n",
      "The generation 35 is: Mutation-Fitness: 6.450526417920959e-08 Next sigma: 0.0002063733880284416\n",
      "The generation 36 is: Mutation-Fitness: 6.450526417920959e-08 Next sigma: 0.0001642558719523174\n",
      "The generation 37 is: Mutation-Fitness: 6.450526417920959e-08 Next sigma: 0.00013274357418714233\n",
      "The generation 38 is: Mutation-Fitness: 4.670203907854855e-08 Next sigma: 0.00010792936525296567\n",
      "The generation 39 is: Mutation-Fitness: 2.2619488342507552e-08 Next sigma: 8.2960896655827e-05\n",
      "The generation 40 is: Mutation-Fitness: 1.3418957845396697e-08 Next sigma: 6.740734633182586e-05\n",
      "The generation 41 is: Mutation-Fitness: 1.0075311676949765e-08 Next sigma: 5.17889394326007e-05\n",
      "The generation 42 is: Mutation-Fitness: 4.138410478832252e-09 Next sigma: 4.169694175904087e-05\n",
      "The generation 43 is: Mutation-Fitness: 3.349066850623708e-09 Next sigma: 3.2326415431150636e-05\n",
      "The generation 44 is: Mutation-Fitness: 2.232993395966478e-09 Next sigma: 2.4736462546326516e-05\n",
      "The generation 45 is: Mutation-Fitness: 9.439754703120565e-10 Next sigma: 1.915138037080909e-05\n",
      "The generation 46 is: Mutation-Fitness: 2.3111727944678766e-10 Next sigma: 1.4688575408594091e-05\n",
      "The generation 47 is: Mutation-Fitness: 2.3111727944678766e-10 Next sigma: 1.1753253701358057e-05\n",
      "The generation 48 is: Mutation-Fitness: 1.0568971350275695e-10 Next sigma: 9.054598573322857e-06\n",
      "The generation 49 is: Mutation-Fitness: 1.0568971350275695e-10 Next sigma: 6.976054773217622e-06\n",
      "The generation 50 is: Mutation-Fitness: 9.080969574578912e-11 Next sigma: 5.311007837052862e-06\n",
      "The generation 51 is: Mutation-Fitness: 3.699926297628457e-11 Next sigma: 4.050178279897302e-06\n",
      "The generation 52 is: Mutation-Fitness: 2.322118656848085e-11 Next sigma: 3.165425858993648e-06\n",
      "The generation 53 is: Mutation-Fitness: 8.432804211561371e-12 Next sigma: 2.4180416487911096e-06\n",
      "The generation 54 is: Mutation-Fitness: 3.4494073155196374e-12 Next sigma: 1.8908318010850794e-06\n",
      "The generation 55 is: Mutation-Fitness: 3.4494073155196374e-12 Next sigma: 1.5315714061398976e-06\n",
      "The generation 56 is: Mutation-Fitness: 2.711814050567188e-12 Next sigma: 1.184984045745449e-06\n",
      "The generation 57 is: Mutation-Fitness: 2.711814050567188e-12 Next sigma: 9.150581157129925e-07\n",
      "The generation 58 is: Mutation-Fitness: 8.494248815132691e-13 Next sigma: 7.020607182070819e-07\n",
      "The generation 59 is: Mutation-Fitness: 7.812334949791103e-13 Next sigma: 5.378342124929615e-07\n",
      "The generation 60 is: Mutation-Fitness: 2.911131444077767e-13 Next sigma: 4.087928818682599e-07\n",
      "The generation 61 is: Mutation-Fitness: 1.6798643478433643e-13 Next sigma: 3.1035282800201537e-07\n",
      "The generation 62 is: Mutation-Fitness: 6.091540522984267e-14 Next sigma: 2.4208431671126616e-07\n",
      "The generation 63 is: Mutation-Fitness: 6.091540522984267e-14 Next sigma: 1.9564514400328487e-07\n",
      "The generation 64 is: Mutation-Fitness: 6.091540522984267e-14 Next sigma: 1.6256704671763383e-07\n",
      "The generation 65 is: Mutation-Fitness: 5.341802707249201e-14 Next sigma: 1.254425117483186e-07\n",
      "The generation 66 is: Mutation-Fitness: 1.0923878968335866e-14 Next sigma: 9.557258263777848e-08\n",
      "The generation 67 is: Mutation-Fitness: 6.540927868580446e-15 Next sigma: 7.35104271156065e-08\n",
      "The generation 68 is: Mutation-Fitness: 6.540927868580446e-15 Next sigma: 5.740388269470841e-08\n",
      "The generation 69 is: Mutation-Fitness: 3.070353152890985e-15 Next sigma: 4.4104557627932885e-08\n",
      "The generation 70 is: Mutation-Fitness: 2.317369028363673e-15 Next sigma: 3.47355255558618e-08\n",
      "The generation 71 is: Mutation-Fitness: 2.317369028363673e-15 Next sigma: 2.890465174723246e-08\n",
      "The generation 72 is: Mutation-Fitness: 8.919083326938892e-16 Next sigma: 2.226360852195212e-08\n",
      "The generation 73 is: Mutation-Fitness: 7.829384718780421e-16 Next sigma: 1.689720441207783e-08\n",
      "The generation 74 is: Mutation-Fitness: 7.626302456868238e-16 Next sigma: 1.2949473064011556e-08\n",
      "The generation 75 is: Mutation-Fitness: 2.081478710080148e-16 Next sigma: 9.989473927208435e-09\n",
      "The generation 76 is: Mutation-Fitness: 1.4223897079532422e-16 Next sigma: 7.747288127921618e-09\n",
      "The generation 77 is: Mutation-Fitness: 8.111450554013443e-17 Next sigma: 6.090384524380631e-09\n",
      "The generation 78 is: Mutation-Fitness: 8.111450554013443e-17 Next sigma: 5.000753289170876e-09\n",
      "The generation 79 is: Mutation-Fitness: 2.6961395060127718e-17 Next sigma: 3.829069703575937e-09\n",
      "The generation 80 is: Mutation-Fitness: 2.6961395060127718e-17 Next sigma: 3.0082713916813072e-09\n",
      "The generation 81 is: Mutation-Fitness: 1.001792426307215e-17 Next sigma: 2.3371276024612054e-09\n",
      "The generation 82 is: Mutation-Fitness: 7.240412634467134e-18 Next sigma: 1.776202507504847e-09\n",
      "The generation 83 is: Mutation-Fitness: 6.53520559761014e-18 Next sigma: 1.3568895574091119e-09\n",
      "The generation 84 is: Mutation-Fitness: 5.491449459979167e-18 Next sigma: 1.1155059243215437e-09\n",
      "The generation 85 is: Mutation-Fitness: 4.190473019690987e-18 Next sigma: 8.674282751263075e-10\n",
      "The generation 86 is: Mutation-Fitness: 1.3673481140126485e-18 Next sigma: 6.684321494882367e-10\n",
      "The generation 87 is: Mutation-Fitness: 1.1300575124995026e-18 Next sigma: 5.09985027864395e-10\n",
      "The generation 88 is: Mutation-Fitness: 4.565718411533102e-19 Next sigma: 4.015336658954914e-10\n",
      "The generation 89 is: Mutation-Fitness: 2.8537899050885746e-19 Next sigma: 3.1000105687834236e-10\n",
      "The generation 90 is: Mutation-Fitness: 2.5385504225752173e-19 Next sigma: 2.438737141821032e-10\n",
      "The generation 91 is: Mutation-Fitness: 1.5063335754383703e-19 Next sigma: 1.8895392818218456e-10\n",
      "The generation 92 is: Mutation-Fitness: 6.857965671379755e-20 Next sigma: 1.462274709291347e-10\n",
      "The generation 93 is: Mutation-Fitness: 3.050848551074385e-20 Next sigma: 1.1364777468204397e-10\n",
      "The generation 94 is: Mutation-Fitness: 1.4306519177576095e-20 Next sigma: 8.592296630323843e-11\n",
      "The generation 95 is: Mutation-Fitness: 6.746748868425143e-21 Next sigma: 6.697377102622727e-11\n",
      "The generation 96 is: Mutation-Fitness: 3.630966285458519e-21 Next sigma: 5.174889204617962e-11\n",
      "The generation 97 is: Mutation-Fitness: 2.503492219162789e-21 Next sigma: 3.99127032128105e-11\n",
      "The generation 98 is: Mutation-Fitness: 1.375194931320872e-21 Next sigma: 3.0544939454669646e-11\n",
      "The generation 99 is: Mutation-Fitness: 1.375194931320872e-21 Next sigma: 2.423484647973093e-11\n",
      "The generation 100 is: Mutation-Fitness: 2.8390590821748576e-22 Next sigma: 1.8489677106522138e-11\n"
     ]
    }
   ],
   "source": [
    "N = 5\n",
    "x = 2 * np.ones(N)\n",
    "generation = 1\n",
    "_lambda = 20\n",
    "sigma = 1.0\n",
    "s_sigma = 0\n",
    "c_sigma = np.sqrt(1 / (N + 1))\n",
    "d = 1 + np.sqrt(1 / N)\n",
    "population = []\n",
    "\n",
    "# 100 Generations\n",
    "while generation <= 100:\n",
    "\n",
    "    # Create lambda offsprings per generation\n",
    "    for o in range(1, _lambda):\n",
    "        # Create and mutate offspring\n",
    "        z = np.random.randn(N)\n",
    "        x_ = x + sigma * z\n",
    "        fitness = sphere_function(x_)\n",
    "        mutation = Mutation(x_, fitness, z)\n",
    "        population.append(mutation)\n",
    "\n",
    "    # Select the 1 best candidate (x_, z) by sorting fitness\n",
    "    population.sort()\n",
    "    population = population[:1]\n",
    "    x = population[0].xm\n",
    "    z = population[0].zm\n",
    "\n",
    "    # Calculate cumulative path length and new step size\n",
    "    s_sigma = (1 - c_sigma) * s_sigma + c_sigma * z\n",
    "    sigma = sigma * np.exp((c_sigma / d) * (((np.linalg.norm(s_sigma) ** 2) / N) - 1))\n",
    "\n",
    "    print(\"The generation\", generation, \"is:\", \", \".join([str(m) for m in population]), \"Next sigma:\", sigma)\n",
    "\n",
    "    generation += 1"
   ],
   "metadata": {
    "collapsed": false,
    "pycharm": {
     "name": "#%%\n"
    }
   }
  },
  {
   "cell_type": "markdown",
   "source": [
    "# Benchmark Results\n",
    "## Sphere:\n",
    "The generation 100 is: Mutation-Fitness: 4.1811133678563526e-20 Next sigma: 8.259301799414615e-11\n",
    "\n",
    "## Rosenbrock:\n",
    "The generation 100 is: Mutation-Fitness: 0.061012896646217576 Next sigma: 2.0951015748869715e-06\n",
    "\n",
    "## Rastrigin:\n",
    "The generation 100 is: Mutation-Fitness: 11.939493571662261 Next sigma: 5.044363117839991e-10"
   ],
   "metadata": {
    "collapsed": false,
    "pycharm": {
     "name": "#%% md\n"
    }
   }
  },
  {
   "cell_type": "code",
   "execution_count": null,
   "outputs": [],
   "source": [],
   "metadata": {
    "collapsed": false,
    "pycharm": {
     "name": "#%%\n"
    }
   }
  }
 ],
 "metadata": {
  "kernelspec": {
   "display_name": "Python 3",
   "language": "python",
   "name": "python3"
  },
  "language_info": {
   "codemirror_mode": {
    "name": "ipython",
    "version": 2
   },
   "file_extension": ".py",
   "mimetype": "text/x-python",
   "name": "python",
   "nbconvert_exporter": "python",
   "pygments_lexer": "ipython2",
   "version": "2.7.6"
  }
 },
 "nbformat": 4,
 "nbformat_minor": 0
}