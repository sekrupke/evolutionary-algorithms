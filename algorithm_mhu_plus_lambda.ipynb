{
 "cells": [
  {
   "cell_type": "markdown",
   "source": [
    "This is an introduction to evolutionary computation in Python with NumPy."
   ],
   "metadata": {
    "collapsed": false,
    "pycharm": {
     "name": "#%% md\n"
    }
   }
  },
  {
   "cell_type": "code",
   "execution_count": 125,
   "outputs": [],
   "source": [
    "import numpy as np"
   ],
   "metadata": {
    "collapsed": false,
    "pycharm": {
     "name": "#%%\n"
    }
   }
  },
  {
   "cell_type": "code",
   "execution_count": 126,
   "outputs": [],
   "source": [
    "class Mutation:\n",
    "    def __init__(self, value, fit):\n",
    "        self.value = value\n",
    "        self.fit = fit\n",
    "\n",
    "    def __gt__(self, mutation2):\n",
    "        return self.fit > mutation2.fit\n",
    "\n",
    "    def __str__(self):\n",
    "        return \"Mutation-Fitness: \" + str(self.fit)\n",
    "\n",
    "def sphere(value):\n",
    "    return np.dot(value.T, value)\n",
    "\n",
    "def crossover(parent1, parent2):\n",
    "    return (parent1.value + parent2.value) / 2\n"
   ],
   "metadata": {
    "collapsed": false,
    "pycharm": {
     "name": "#%%\n"
    }
   }
  },
  {
   "cell_type": "code",
   "execution_count": 127,
   "outputs": [],
   "source": [
    "n = 5\n",
    "x = 2 * np.ones(n)"
   ],
   "metadata": {
    "collapsed": false,
    "pycharm": {
     "name": "#%%\n"
    }
   }
  },
  {
   "cell_type": "code",
   "execution_count": 128,
   "outputs": [
    {
     "name": "stdout",
     "output_type": "stream",
     "text": [
      "The first generation is: Mutation-Fitness: 25.462956854751855, Mutation-Fitness: 28.60593614095617, Mutation-Fitness: 32.15670243296411, Mutation-Fitness: 27.196262709104857, Mutation-Fitness: 31.69362552758428, Mutation-Fitness: 16.58365850863743, Mutation-Fitness: 19.973532516738352, Mutation-Fitness: 29.81947131155022, Mutation-Fitness: 29.644747654308247, Mutation-Fitness: 28.985612298720586, Mutation-Fitness: 22.00771808256678, Mutation-Fitness: 12.929936917484788, Mutation-Fitness: 27.190775681239803, Mutation-Fitness: 37.15077832417415, Mutation-Fitness: 28.348164107623425, Mutation-Fitness: 21.858958920071096, Mutation-Fitness: 22.823704664625478, Mutation-Fitness: 30.722887972722376, Mutation-Fitness: 33.0201942305719\n",
      "\n",
      "The last generation is: Mutation-Fitness: 0.056056071555010675, Mutation-Fitness: 0.09028728710175166, Mutation-Fitness: 0.10197587242650737, Mutation-Fitness: 0.1198501204461074, Mutation-Fitness: 0.1580692662118852, Mutation-Fitness: 0.16151806092137785, Mutation-Fitness: 0.17224722967338335, Mutation-Fitness: 0.19155220798334152, Mutation-Fitness: 0.19395932817907655, Mutation-Fitness: 0.2053734910114802, Mutation-Fitness: 0.21820059422701493, Mutation-Fitness: 0.2239209536541561, Mutation-Fitness: 0.2334540677649025, Mutation-Fitness: 0.24463089686904993, Mutation-Fitness: 0.24877044611046112, Mutation-Fitness: 0.25008710671840495, Mutation-Fitness: 0.26013783012766395, Mutation-Fitness: 0.26227544447058077, Mutation-Fitness: 0.27006412604722563\n"
     ]
    }
   ],
   "source": [
    "generation = 0\n",
    "sigma = 1.0\n",
    "parents_mhu = 20\n",
    "mutations_lambda = 10\n",
    "population = []\n",
    "\n",
    "# Generate initial mhu parents for population\n",
    "for i in range(1, parents_mhu):\n",
    "    x_ = x + sigma * np.random.randn(n)\n",
    "    fitness = sphere(x_)\n",
    "\n",
    "    mutation = Mutation(x_, fitness)\n",
    "    population.append(mutation)\n",
    "print(\"The first generation is:\", \", \".join([str(m) for m in population]))\n",
    "print()\n",
    "\n",
    "# Compute 100 generations\n",
    "while generation < 1000:\n",
    "    # Crossover with 2 parents and intermediate recombination by mean value (repeat for number of mutations)\n",
    "    for i in range(1, mutations_lambda):\n",
    "        mean_value = crossover(population[0], population[1])\n",
    "        # Mutation\n",
    "        mean_value_ = mean_value + sigma * np.random.randn(n)\n",
    "        fitness_ = sphere(mean_value_)\n",
    "\n",
    "        mutation = Mutation(mean_value_, fitness_)\n",
    "        population.append(mutation)\n",
    "\n",
    "    # Now select the best (minimal) mhu parents out of complete population (parent + mutations)\n",
    "    population.sort()\n",
    "    population = population[:parents_mhu - 1]\n",
    "    generation += 1\n",
    "\n",
    "# Return the last generation\n",
    "print(\"The last generation is:\", \", \".join([str(m) for m in population]))"
   ],
   "metadata": {
    "collapsed": false,
    "pycharm": {
     "name": "#%%\n"
    }
   }
  },
  {
   "cell_type": "code",
   "execution_count": 80,
   "outputs": [],
   "source": [],
   "metadata": {
    "collapsed": false,
    "pycharm": {
     "name": "#%%\n"
    }
   }
  },
  {
   "cell_type": "code",
   "execution_count": null,
   "outputs": [],
   "source": [],
   "metadata": {
    "collapsed": false,
    "pycharm": {
     "name": "#%%\n"
    }
   }
  }
 ],
 "metadata": {
  "kernelspec": {
   "display_name": "Python 3",
   "language": "python",
   "name": "python3"
  },
  "language_info": {
   "codemirror_mode": {
    "name": "ipython",
    "version": 2
   },
   "file_extension": ".py",
   "mimetype": "text/x-python",
   "name": "python",
   "nbconvert_exporter": "python",
   "pygments_lexer": "ipython2",
   "version": "2.7.6"
  }
 },
 "nbformat": 4,
 "nbformat_minor": 0
}