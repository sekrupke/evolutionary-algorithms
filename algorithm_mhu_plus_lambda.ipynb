{
 "cells": [
  {
   "cell_type": "markdown",
   "source": [
    "This is an introduction to evolutionary computation in Python with NumPy."
   ],
   "metadata": {
    "collapsed": false,
    "pycharm": {
     "name": "#%% md\n"
    }
   }
  },
  {
   "cell_type": "code",
   "execution_count": 145,
   "outputs": [],
   "source": [
    "import numpy as np\n",
    "import random as rdm"
   ],
   "metadata": {
    "collapsed": false,
    "pycharm": {
     "name": "#%%\n"
    }
   }
  },
  {
   "cell_type": "code",
   "execution_count": 146,
   "outputs": [],
   "source": [
    "class Mutation:\n",
    "    def __init__(self, value, fit):\n",
    "        self.value = value\n",
    "        self.fit = fit\n",
    "\n",
    "    def __gt__(self, mutation2):\n",
    "        return self.fit > mutation2.fit\n",
    "\n",
    "    def __str__(self):\n",
    "        return \"Mutation-Fitness: \" + str(self.fit)\n",
    "\n",
    "def sphere(value):\n",
    "    return np.dot(value.T, value)\n",
    "\n",
    "def crossover(parent1, parent2):\n",
    "    return (parent1.value + parent2.value) / 2\n"
   ],
   "metadata": {
    "collapsed": false,
    "pycharm": {
     "name": "#%%\n"
    }
   }
  },
  {
   "cell_type": "code",
   "execution_count": 147,
   "outputs": [],
   "source": [
    "n = 5\n",
    "x = 2 * np.ones(n)"
   ],
   "metadata": {
    "collapsed": false,
    "pycharm": {
     "name": "#%%\n"
    }
   }
  },
  {
   "cell_type": "code",
   "execution_count": 148,
   "outputs": [
    {
     "name": "stdout",
     "output_type": "stream",
     "text": [
      "The first generation is: Mutation-Fitness: 29.693444844516527, Mutation-Fitness: 23.99484995177145, Mutation-Fitness: 13.620174883387838, Mutation-Fitness: 37.78973860747794, Mutation-Fitness: 12.661069834454423, Mutation-Fitness: 16.822901127986672, Mutation-Fitness: 40.07770853364602, Mutation-Fitness: 17.257693007815192, Mutation-Fitness: 42.02621932018596, Mutation-Fitness: 18.18761039179214, Mutation-Fitness: 6.908567812578843, Mutation-Fitness: 18.063868307529535, Mutation-Fitness: 36.6202043501987, Mutation-Fitness: 29.562769757107905, Mutation-Fitness: 27.450955182461122, Mutation-Fitness: 14.999185335863512, Mutation-Fitness: 24.993757324065704, Mutation-Fitness: 37.79959667463285, Mutation-Fitness: 27.739059144999434\n",
      "\n",
      "The last generation is: Mutation-Fitness: 0.3121372996679014, Mutation-Fitness: 0.366205681622295, Mutation-Fitness: 0.40316534462923587, Mutation-Fitness: 0.46561955776215413, Mutation-Fitness: 0.4720526572916037, Mutation-Fitness: 0.512441629476228, Mutation-Fitness: 0.5632318414070542, Mutation-Fitness: 0.566163014514379, Mutation-Fitness: 0.5851346898827092, Mutation-Fitness: 0.5889548237898758, Mutation-Fitness: 0.6137998826713191, Mutation-Fitness: 0.6195650534080599, Mutation-Fitness: 0.779395858076552, Mutation-Fitness: 0.810022981349347, Mutation-Fitness: 0.8178087376628946, Mutation-Fitness: 0.8694969884545447, Mutation-Fitness: 0.890068110190366, Mutation-Fitness: 0.9308722675640526, Mutation-Fitness: 0.9736055660112707\n"
     ]
    }
   ],
   "source": [
    "generation = 0\n",
    "sigma = 1.0\n",
    "parents_mhu = 20\n",
    "mutations_lambda = 10\n",
    "population = []\n",
    "\n",
    "# Generate initial mhu parents for population\n",
    "for i in range(1, parents_mhu):\n",
    "    x_ = x + sigma * np.random.randn(n)\n",
    "    fitness = sphere(x_)\n",
    "\n",
    "    mutation = Mutation(x_, fitness)\n",
    "    population.append(mutation)\n",
    "print(\"The first generation is:\", \", \".join([str(m) for m in population]))\n",
    "print()\n",
    "\n",
    "# Compute 100 generations\n",
    "while generation < 100:\n",
    "    # Crossover with 2 parents and intermediate recombination by mean value (repeat for number of mutations)\n",
    "    for i in range(1, mutations_lambda):\n",
    "        first_parent = rdm.randrange(len(population))\n",
    "        second_parent = rdm.randrange(len(population))\n",
    "        mean_value = crossover(population[first_parent], population[second_parent])\n",
    "        # Mutation\n",
    "        mean_value_ = mean_value + sigma * np.random.randn(n)\n",
    "        fitness_ = sphere(mean_value_)\n",
    "\n",
    "        mutation = Mutation(mean_value_, fitness_)\n",
    "        population.append(mutation)\n",
    "\n",
    "    # Now select the best (minimal) mhu parents out of complete population (parent + mutations)\n",
    "    population.sort()\n",
    "    population = population[:parents_mhu - 1]\n",
    "    generation += 1\n",
    "\n",
    "# Return the last generation\n",
    "print(\"The last generation is:\", \", \".join([str(m) for m in population]))"
   ],
   "metadata": {
    "collapsed": false,
    "pycharm": {
     "name": "#%%\n"
    }
   }
  },
  {
   "cell_type": "code",
   "execution_count": 80,
   "outputs": [],
   "source": [],
   "metadata": {
    "collapsed": false,
    "pycharm": {
     "name": "#%%\n"
    }
   }
  },
  {
   "cell_type": "code",
   "execution_count": null,
   "outputs": [],
   "source": [],
   "metadata": {
    "collapsed": false,
    "pycharm": {
     "name": "#%%\n"
    }
   }
  }
 ],
 "metadata": {
  "kernelspec": {
   "display_name": "Python 3",
   "language": "python",
   "name": "python3"
  },
  "language_info": {
   "codemirror_mode": {
    "name": "ipython",
    "version": 2
   },
   "file_extension": ".py",
   "mimetype": "text/x-python",
   "name": "python",
   "nbconvert_exporter": "python",
   "pygments_lexer": "ipython2",
   "version": "2.7.6"
  }
 },
 "nbformat": 4,
 "nbformat_minor": 0
}