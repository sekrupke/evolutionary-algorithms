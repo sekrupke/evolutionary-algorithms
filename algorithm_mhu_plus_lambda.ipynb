{
 "cells": [
  {
   "cell_type": "markdown",
   "source": [
    "This is an introduction to evolutionary computation in Python with NumPy."
   ],
   "metadata": {
    "collapsed": false,
    "pycharm": {
     "name": "#%% md\n"
    }
   }
  },
  {
   "cell_type": "code",
   "execution_count": 1,
   "outputs": [],
   "source": [
    "import numpy as np"
   ],
   "metadata": {
    "collapsed": false,
    "pycharm": {
     "name": "#%%\n"
    }
   }
  },
  {
   "cell_type": "code",
   "execution_count": 2,
   "outputs": [],
   "source": [
    "def sphere(value):\n",
    "    return np.dot(value.T, value)\n",
    "\n",
    "def crossover_by_mean(*parents):\n",
    "    return sum(parents) / len(parents)"
   ],
   "metadata": {
    "collapsed": false,
    "pycharm": {
     "name": "#%%\n"
    }
   }
  },
  {
   "cell_type": "code",
   "execution_count": 3,
   "outputs": [],
   "source": [
    "N = 5\n",
    "x = 2 * np.ones(N)"
   ],
   "metadata": {
    "collapsed": false,
    "pycharm": {
     "name": "#%%\n"
    }
   }
  },
  {
   "cell_type": "code",
   "execution_count": 4,
   "outputs": [
    {
     "name": "stdout",
     "output_type": "stream",
     "text": [
      "[22.58937842 18.3021992  28.83608792 25.02224302 17.11435928 24.80650832\n",
      " 24.05380449 16.75107818 25.67317589 17.70402399 18.82751445 28.80536833\n",
      " 18.51301927 43.86106593 21.94245859 13.25149367 17.0860899  49.99196467\n",
      " 23.77475658]\n",
      "The last generation is: [ 13.25149367  16.75107818  17.0860899   17.11435928  17.70402399\n",
      "  18.3021992   18.51301927  18.82751445  21.94245859  22.58937842\n",
      "  23.77475658  24.05380449  24.80650832  25.02224302  25.67317589\n",
      "  28.80536833  28.83608792  43.86106593  49.99196467 828.95864796]\n"
     ]
    }
   ],
   "source": [
    "generation = 0\n",
    "sigma = 1.\n",
    "parents_mhu = 20\n",
    "mutations_lambda = 20\n",
    "population = []\n",
    "\n",
    "# Generate initial mhu parents for population\n",
    "for i in range(1, parents_mhu):\n",
    "    x_ = x + sigma * np.random.randn(N)\n",
    "    fitness = sphere(x_)\n",
    "    population = np.append(population, fitness)\n",
    "print(population)\n",
    "\n",
    "# Compute 100 generations\n",
    "while generation < 100:\n",
    "    # Crossover with 2 parents and arithmetic mean value (repeat for number of mutations)\n",
    "    for i in range(1, mutations_lambda):\n",
    "        parent1 = np.random.choice(population)\n",
    "        parent2 = np.random.choice(population)\n",
    "        mean_value = crossover_by_mean(parent1, parent2)\n",
    "        mean_value_ = mean_value + sigma * np.random.randn(N)\n",
    "        fitness_ = sphere(mean_value_)\n",
    "        population = np.append(population, fitness_)\n",
    "\n",
    "    # Now select the best (minimal) mhu parents out of complete population (parent + mutations)\n",
    "    population_array = np.sort(population)\n",
    "    population = population_array[:parents_mhu]\n",
    "    generation += 1\n",
    "\n",
    "# Return the last generation\n",
    "print(\"The last generation is:\", population)"
   ],
   "metadata": {
    "collapsed": false,
    "pycharm": {
     "name": "#%%\n"
    }
   }
  },
  {
   "cell_type": "code",
   "execution_count": null,
   "outputs": [],
   "source": [],
   "metadata": {
    "collapsed": false,
    "pycharm": {
     "name": "#%%\n"
    }
   }
  }
 ],
 "metadata": {
  "kernelspec": {
   "display_name": "Python 3",
   "language": "python",
   "name": "python3"
  },
  "language_info": {
   "codemirror_mode": {
    "name": "ipython",
    "version": 2
   },
   "file_extension": ".py",
   "mimetype": "text/x-python",
   "name": "python",
   "nbconvert_exporter": "python",
   "pygments_lexer": "ipython2",
   "version": "2.7.6"
  }
 },
 "nbformat": 4,
 "nbformat_minor": 0
}