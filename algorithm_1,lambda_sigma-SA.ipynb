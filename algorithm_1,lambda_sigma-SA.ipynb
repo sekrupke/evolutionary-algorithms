{
 "cells": [
  {
   "cell_type": "markdown",
   "source": [
    "This is an introduction to evolutionary computation in Python with NumPy."
   ],
   "metadata": {
    "collapsed": false,
    "pycharm": {
     "name": "#%% md\n"
    }
   }
  },
  {
   "cell_type": "code",
   "execution_count": 5,
   "outputs": [],
   "source": [
    "import numpy as np"
   ],
   "metadata": {
    "collapsed": false,
    "pycharm": {
     "name": "#%%\n"
    }
   }
  },
  {
   "cell_type": "code",
   "execution_count": 6,
   "outputs": [],
   "source": [
    "class Candidate:\n",
    "    def __init__(self, x_m, sigma_m, fit):\n",
    "        self.x_m = x_m\n",
    "        self.sigma_m = sigma_m\n",
    "        self.fit = fit\n",
    "\n",
    "    def __gt__(self, mutation2):\n",
    "        return self.fit > mutation2.fit\n",
    "\n",
    "    def __str__(self):\n",
    "        return \"Fitness: \" + str(self.fit)\n",
    "\n",
    "def sphere_function(value):\n",
    "    return np.dot(value.T, value)\n",
    "\n",
    "\n",
    "def rosenbrock_function(value):\n",
    "    n = len(value)\n",
    "    _sum = 0\n",
    "\n",
    "    for i in range(n - 1):\n",
    "        _sum += 100 * (value[i] ** 2 - value[i+1]) ** 2 + (value[i] - 1) ** 2\n",
    "    return _sum\n",
    "\n",
    "\n",
    "def rastrigin_function(value):\n",
    "    A = 10\n",
    "    n = len(value)\n",
    "    _sum = 0\n",
    "\n",
    "    for i in range(n):\n",
    "        _sum += value[i] ** 2 - A * np.cos(2 * np.pi * value[i])\n",
    "    return A * n + _sum"
   ],
   "metadata": {
    "collapsed": false,
    "pycharm": {
     "name": "#%%\n"
    }
   }
  },
  {
   "cell_type": "code",
   "execution_count": 7,
   "outputs": [
    {
     "name": "stdout",
     "output_type": "stream",
     "text": [
      "The generation 1 is: Fitness: 10.676867040548746 Next sigma: [0.91266135]\n",
      "The generation 2 is: Fitness: 7.963737360319611 Next sigma: [1.15986619]\n",
      "The generation 3 is: Fitness: 3.672526723756399 Next sigma: [1.43219296]\n",
      "The generation 4 is: Fitness: 3.672526723756399 Next sigma: [1.43219296]\n",
      "The generation 5 is: Fitness: 2.4220891189292937 Next sigma: [0.64794733]\n",
      "The generation 6 is: Fitness: 0.740838254342079 Next sigma: [0.4158777]\n",
      "The generation 7 is: Fitness: 0.2844968371249046 Next sigma: [0.35735485]\n",
      "The generation 8 is: Fitness: 0.23397667911606335 Next sigma: [0.16349739]\n",
      "The generation 9 is: Fitness: 0.08923292414918707 Next sigma: [0.1131729]\n",
      "The generation 10 is: Fitness: 0.054971727678682844 Next sigma: [0.15189742]\n",
      "The generation 11 is: Fitness: 0.030748802712479678 Next sigma: [0.15872453]\n",
      "The generation 12 is: Fitness: 0.007440802991068922 Next sigma: [0.08974115]\n",
      "The generation 13 is: Fitness: 0.004612663694708057 Next sigma: [0.04169074]\n",
      "The generation 14 is: Fitness: 0.002638406354346985 Next sigma: [0.05498263]\n",
      "The generation 15 is: Fitness: 0.002638406354346985 Next sigma: [0.05498263]\n",
      "The generation 16 is: Fitness: 0.0018286655822231169 Next sigma: [0.03200954]\n",
      "The generation 17 is: Fitness: 0.0014908599726780188 Next sigma: [0.03504061]\n",
      "The generation 18 is: Fitness: 0.00019318339240379157 Next sigma: [0.02324708]\n",
      "The generation 19 is: Fitness: 0.00019318339240379157 Next sigma: [0.02324708]\n",
      "The generation 20 is: Fitness: 0.00012603061721456856 Next sigma: [0.00799936]\n",
      "The generation 21 is: Fitness: 7.787189910847412e-05 Next sigma: [0.00728538]\n",
      "The generation 22 is: Fitness: 7.787189910847412e-05 Next sigma: [0.00728538]\n",
      "The generation 23 is: Fitness: 5.961491054396103e-05 Next sigma: [0.00539471]\n",
      "The generation 24 is: Fitness: 9.650446833982462e-06 Next sigma: [0.00313737]\n",
      "The generation 25 is: Fitness: 9.650446833982462e-06 Next sigma: [0.00313737]\n",
      "The generation 26 is: Fitness: 7.615979124658974e-06 Next sigma: [0.00103622]\n",
      "The generation 27 is: Fitness: 2.404794759307957e-06 Next sigma: [0.00084806]\n",
      "The generation 28 is: Fitness: 2.0445857213958275e-06 Next sigma: [0.00040122]\n",
      "The generation 29 is: Fitness: 1.7166574701946652e-06 Next sigma: [0.00037448]\n",
      "The generation 30 is: Fitness: 9.901963804407069e-07 Next sigma: [0.00026364]\n",
      "The generation 31 is: Fitness: 6.365054298888726e-07 Next sigma: [0.00016663]\n",
      "The generation 32 is: Fitness: 2.567717707100077e-07 Next sigma: [0.00019525]\n",
      "The generation 33 is: Fitness: 1.8013203569321392e-07 Next sigma: [0.00020623]\n",
      "The generation 34 is: Fitness: 1.2134620573689276e-07 Next sigma: [0.00017843]\n",
      "The generation 35 is: Fitness: 7.983976366279038e-08 Next sigma: [0.00010434]\n",
      "The generation 36 is: Fitness: 5.3269109419923476e-08 Next sigma: [0.00017913]\n",
      "The generation 37 is: Fitness: 2.758567163678931e-08 Next sigma: [0.00024696]\n",
      "The generation 38 is: Fitness: 2.758567163678931e-08 Next sigma: [0.00024696]\n",
      "The generation 39 is: Fitness: 2.758567163678931e-08 Next sigma: [0.00024696]\n",
      "The generation 40 is: Fitness: 2.758567163678931e-08 Next sigma: [0.00024696]\n",
      "The generation 41 is: Fitness: 2.3234506792184977e-08 Next sigma: [0.00016673]\n",
      "The generation 42 is: Fitness: 1.8669072844106392e-08 Next sigma: [0.00011715]\n",
      "The generation 43 is: Fitness: 1.8669072844106392e-08 Next sigma: [0.00011715]\n",
      "The generation 44 is: Fitness: 1.8669072844106392e-08 Next sigma: [0.00011715]\n",
      "The generation 45 is: Fitness: 8.882991054770027e-09 Next sigma: [8.31493401e-05]\n",
      "The generation 46 is: Fitness: 6.595543028397406e-09 Next sigma: [9.21669045e-05]\n",
      "The generation 47 is: Fitness: 6.595543028397406e-09 Next sigma: [9.21669045e-05]\n",
      "The generation 48 is: Fitness: 6.595543028397406e-09 Next sigma: [9.21669045e-05]\n",
      "The generation 49 is: Fitness: 6.595543028397406e-09 Next sigma: [9.21669045e-05]\n",
      "The generation 50 is: Fitness: 6.595543028397406e-09 Next sigma: [9.21669045e-05]\n",
      "The generation 51 is: Fitness: 6.595543028397406e-09 Next sigma: [9.21669045e-05]\n",
      "The generation 52 is: Fitness: 6.595543028397406e-09 Next sigma: [9.21669045e-05]\n",
      "The generation 53 is: Fitness: 6.568470704302874e-09 Next sigma: [5.05979009e-05]\n",
      "The generation 54 is: Fitness: 1.0941402035843917e-09 Next sigma: [3.90843678e-05]\n",
      "The generation 55 is: Fitness: 4.328087323028688e-10 Next sigma: [4.70905497e-05]\n",
      "The generation 56 is: Fitness: 2.186513157143517e-10 Next sigma: [1.39555896e-05]\n",
      "The generation 57 is: Fitness: 2.186513157143517e-10 Next sigma: [1.39555896e-05]\n",
      "The generation 58 is: Fitness: 1.478722159866916e-10 Next sigma: [8.84413496e-06]\n",
      "The generation 59 is: Fitness: 1.3432502037003468e-10 Next sigma: [9.98924013e-06]\n",
      "The generation 60 is: Fitness: 1.3432502037003468e-10 Next sigma: [9.98924013e-06]\n",
      "The generation 61 is: Fitness: 3.437836625339776e-11 Next sigma: [5.67028552e-06]\n",
      "The generation 62 is: Fitness: 3.437836625339776e-11 Next sigma: [5.67028552e-06]\n",
      "The generation 63 is: Fitness: 1.4994234136866128e-11 Next sigma: [3.54222097e-06]\n",
      "The generation 64 is: Fitness: 1.4994234136866128e-11 Next sigma: [3.54222097e-06]\n",
      "The generation 65 is: Fitness: 1.4994234136866128e-11 Next sigma: [3.54222097e-06]\n",
      "The generation 66 is: Fitness: 1.4994234136866128e-11 Next sigma: [3.54222097e-06]\n",
      "The generation 67 is: Fitness: 1.338496615521646e-11 Next sigma: [1.53262362e-06]\n",
      "The generation 68 is: Fitness: 4.976028646509751e-12 Next sigma: [1.45413387e-06]\n",
      "The generation 69 is: Fitness: 2.0265684510889766e-12 Next sigma: [1.90293476e-06]\n",
      "The generation 70 is: Fitness: 2.0265684510889766e-12 Next sigma: [1.90293476e-06]\n",
      "The generation 71 is: Fitness: 2.0265684510889766e-12 Next sigma: [1.90293476e-06]\n",
      "The generation 72 is: Fitness: 2.0265684510889766e-12 Next sigma: [1.90293476e-06]\n",
      "The generation 73 is: Fitness: 1.2400588801937774e-12 Next sigma: [8.4875961e-07]\n",
      "The generation 74 is: Fitness: 1.2400588801937774e-12 Next sigma: [8.4875961e-07]\n",
      "The generation 75 is: Fitness: 9.050819098792288e-13 Next sigma: [4.49519327e-07]\n",
      "The generation 76 is: Fitness: 8.011500633036295e-13 Next sigma: [7.24564611e-07]\n",
      "The generation 77 is: Fitness: 8.011500633036295e-13 Next sigma: [7.24564611e-07]\n",
      "The generation 78 is: Fitness: 2.0658792719701947e-13 Next sigma: [4.21769005e-07]\n",
      "The generation 79 is: Fitness: 3.616198459369671e-14 Next sigma: [2.4327193e-07]\n",
      "The generation 80 is: Fitness: 3.1760915484678104e-14 Next sigma: [2.30452361e-07]\n",
      "The generation 81 is: Fitness: 3.1760915484678104e-14 Next sigma: [2.30452361e-07]\n",
      "The generation 82 is: Fitness: 2.110331822229686e-14 Next sigma: [9.73109538e-08]\n",
      "The generation 83 is: Fitness: 6.9364757339070895e-15 Next sigma: [3.65383169e-08]\n",
      "The generation 84 is: Fitness: 2.657595752955633e-15 Next sigma: [2.95932352e-08]\n",
      "The generation 85 is: Fitness: 1.3087869603334265e-15 Next sigma: [1.51042832e-08]\n",
      "The generation 86 is: Fitness: 1.0182625755900577e-15 Next sigma: [1.38678349e-08]\n",
      "The generation 87 is: Fitness: 6.318500041764024e-16 Next sigma: [1.07868767e-08]\n",
      "The generation 88 is: Fitness: 1.8580578405768346e-16 Next sigma: [1.34574729e-08]\n",
      "The generation 89 is: Fitness: 1.6037638186038918e-16 Next sigma: [1.21230648e-08]\n",
      "The generation 90 is: Fitness: 1.3347011501388573e-16 Next sigma: [4.89159016e-09]\n",
      "The generation 91 is: Fitness: 8.432966756667284e-17 Next sigma: [5.52952017e-09]\n",
      "The generation 92 is: Fitness: 3.971891958658443e-17 Next sigma: [8.35387309e-09]\n",
      "The generation 93 is: Fitness: 3.971891958658443e-17 Next sigma: [8.35387309e-09]\n",
      "The generation 94 is: Fitness: 3.971891958658443e-17 Next sigma: [8.35387309e-09]\n",
      "The generation 95 is: Fitness: 3.474146366983822e-17 Next sigma: [2.1052776e-09]\n",
      "The generation 96 is: Fitness: 1.2040209062277954e-17 Next sigma: [1.37971158e-09]\n",
      "The generation 97 is: Fitness: 3.4152149017006097e-18 Next sigma: [1.30790543e-09]\n",
      "The generation 98 is: Fitness: 8.402481774708783e-19 Next sigma: [1.17705474e-09]\n",
      "The generation 99 is: Fitness: 7.919780685732201e-19 Next sigma: [5.27712748e-10]\n",
      "The generation 100 is: Fitness: 1.7963040077797993e-19 Next sigma: [5.08223425e-10]\n"
     ]
    }
   ],
   "source": [
    "N = 5\n",
    "x = 2 * np.ones(N)\n",
    "generation = 1\n",
    "_lambda = 20\n",
    "sigma = 1.0\n",
    "s_sigma = 0\n",
    "Tau = 1 / np.sqrt(N)\n",
    "population = []\n",
    "\n",
    "# 100 Generations\n",
    "while generation <= 100:\n",
    "\n",
    "    # Create lambda offsprings per generation\n",
    "    for o in range(1, _lambda):\n",
    "        # Create and mutate offspring\n",
    "        xi = Tau * np.random.randn(1)\n",
    "        z = np.random.randn(N)\n",
    "        sigma_ = sigma * np.exp(xi)\n",
    "        x_ = x + sigma_ * z\n",
    "        fitness = sphere_function(x_)\n",
    "        candidate = Candidate(x_, sigma_, fitness)\n",
    "        population.append(candidate)\n",
    "\n",
    "    # Select the 1 best candidate (x_, sigma_) by sorting fitness\n",
    "    population.sort()\n",
    "    population = population[:1]\n",
    "    best = population[0]\n",
    "    x = best.x_m\n",
    "    sigma = best.sigma_m\n",
    "\n",
    "    print(\"The generation\", generation, \"is:\", \", \".join([str(m) for m in population]), \"Next sigma:\", sigma)\n",
    "\n",
    "    generation += 1"
   ],
   "metadata": {
    "collapsed": false,
    "pycharm": {
     "name": "#%%\n"
    }
   }
  },
  {
   "cell_type": "code",
   "execution_count": null,
   "outputs": [],
   "source": [],
   "metadata": {
    "collapsed": false,
    "pycharm": {
     "name": "#%%\n"
    }
   }
  }
 ],
 "metadata": {
  "kernelspec": {
   "display_name": "Python 3",
   "language": "python",
   "name": "python3"
  },
  "language_info": {
   "codemirror_mode": {
    "name": "ipython",
    "version": 2
   },
   "file_extension": ".py",
   "mimetype": "text/x-python",
   "name": "python",
   "nbconvert_exporter": "python",
   "pygments_lexer": "ipython2",
   "version": "2.7.6"
  }
 },
 "nbformat": 4,
 "nbformat_minor": 0
}