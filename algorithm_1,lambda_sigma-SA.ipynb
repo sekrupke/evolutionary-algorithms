{
 "cells": [
  {
   "cell_type": "markdown",
   "source": [
    "This is an introduction to evolutionary computation in Python with NumPy."
   ],
   "metadata": {
    "collapsed": false,
    "pycharm": {
     "name": "#%% md\n"
    }
   }
  },
  {
   "cell_type": "code",
   "execution_count": 27,
   "outputs": [],
   "source": [
    "import numpy as np"
   ],
   "metadata": {
    "collapsed": false,
    "pycharm": {
     "name": "#%%\n"
    }
   }
  },
  {
   "cell_type": "code",
   "execution_count": 28,
   "outputs": [],
   "source": [
    "class Candidate:\n",
    "    def __init__(self, x_m, sigma_m, fit):\n",
    "        self.x_m = x_m\n",
    "        self.sigma_m = sigma_m\n",
    "        self.fit = fit\n",
    "\n",
    "    def __gt__(self, mutation2):\n",
    "        return self.fit > mutation2.fit\n",
    "\n",
    "    def __str__(self):\n",
    "        return \"Fitness: \" + str(self.fit)\n",
    "\n",
    "def sphere_function(value):\n",
    "    return np.dot(value.T, value)\n",
    "\n",
    "\n",
    "def rosenbrock_function(value):\n",
    "    n = len(value)\n",
    "    _sum = 0\n",
    "\n",
    "    for i in range(n - 1):\n",
    "        _sum += 100 * (value[i] ** 2 - value[i+1]) ** 2 + (value[i] - 1) ** 2\n",
    "    return _sum\n",
    "\n",
    "\n",
    "def rastrigin_function(value):\n",
    "    A = 10\n",
    "    n = len(value)\n",
    "    _sum = 0\n",
    "\n",
    "    for i in range(n):\n",
    "        _sum += value[i] ** 2 - A * np.cos(2 * np.pi * value[i])\n",
    "    return A * n + _sum"
   ],
   "metadata": {
    "collapsed": false,
    "pycharm": {
     "name": "#%%\n"
    }
   }
  },
  {
   "cell_type": "code",
   "execution_count": 29,
   "outputs": [
    {
     "name": "stdout",
     "output_type": "stream",
     "text": [
      "The generation 1 is: Fitness: 5.314165672825482 Next sigma: [1.58024273]\n",
      "The generation 2 is: Fitness: 3.7656880703860596 Next sigma: [1.80874718]\n",
      "The generation 3 is: Fitness: 3.7656880703860596 Next sigma: [1.80874718]\n",
      "The generation 4 is: Fitness: 1.6944560335941463 Next sigma: [1.83911605]\n",
      "The generation 5 is: Fitness: 1.6944560335941463 Next sigma: [1.83911605]\n",
      "The generation 6 is: Fitness: 1.6944560335941463 Next sigma: [1.83911605]\n",
      "The generation 7 is: Fitness: 1.6944560335941463 Next sigma: [1.83911605]\n",
      "The generation 8 is: Fitness: 1.6944560335941463 Next sigma: [1.83911605]\n",
      "The generation 9 is: Fitness: 1.6944560335941463 Next sigma: [1.83911605]\n",
      "The generation 10 is: Fitness: 1.6944560335941463 Next sigma: [1.83911605]\n",
      "The generation 11 is: Fitness: 0.8129434098129897 Next sigma: [0.9026644]\n",
      "The generation 12 is: Fitness: 0.8102537275496151 Next sigma: [0.58837985]\n",
      "The generation 13 is: Fitness: 0.4583355562218975 Next sigma: [0.26039856]\n",
      "The generation 14 is: Fitness: 0.21608984710036427 Next sigma: [0.35193395]\n",
      "The generation 15 is: Fitness: 0.03707300426929222 Next sigma: [0.28075465]\n",
      "The generation 16 is: Fitness: 0.03707300426929222 Next sigma: [0.28075465]\n",
      "The generation 17 is: Fitness: 0.033155655966418236 Next sigma: [0.20454373]\n",
      "The generation 18 is: Fitness: 0.03065849241656257 Next sigma: [0.09676034]\n",
      "The generation 19 is: Fitness: 0.012223471348892609 Next sigma: [0.09065315]\n",
      "The generation 20 is: Fitness: 0.012142445279409745 Next sigma: [0.05306694]\n",
      "The generation 21 is: Fitness: 0.00884716362741171 Next sigma: [0.02770685]\n",
      "The generation 22 is: Fitness: 0.004707952283938973 Next sigma: [0.0370748]\n",
      "The generation 23 is: Fitness: 0.002904417254139876 Next sigma: [0.01714566]\n",
      "The generation 24 is: Fitness: 0.002032446359305857 Next sigma: [0.01172492]\n",
      "The generation 25 is: Fitness: 0.0016512875307852029 Next sigma: [0.00867693]\n",
      "The generation 26 is: Fitness: 0.0007540773751060002 Next sigma: [0.00804618]\n",
      "The generation 27 is: Fitness: 0.00013681828608685736 Next sigma: [0.01440652]\n",
      "The generation 28 is: Fitness: 0.00013681828608685736 Next sigma: [0.01440652]\n",
      "The generation 29 is: Fitness: 8.11253929916538e-05 Next sigma: [0.01216088]\n",
      "The generation 30 is: Fitness: 5.2439099462845685e-05 Next sigma: [0.01062513]\n",
      "The generation 31 is: Fitness: 5.2439099462845685e-05 Next sigma: [0.01062513]\n",
      "The generation 32 is: Fitness: 1.9044459008733758e-05 Next sigma: [0.00336417]\n",
      "The generation 33 is: Fitness: 1.4348697157555494e-05 Next sigma: [0.00230271]\n",
      "The generation 34 is: Fitness: 5.850478414532966e-06 Next sigma: [0.00129188]\n",
      "The generation 35 is: Fitness: 2.5682194975964744e-06 Next sigma: [0.00083488]\n",
      "The generation 36 is: Fitness: 1.5309282152199018e-06 Next sigma: [0.0009045]\n",
      "The generation 37 is: Fitness: 7.171434192559877e-07 Next sigma: [0.00100249]\n",
      "The generation 38 is: Fitness: 5.080842054514815e-07 Next sigma: [0.00044114]\n",
      "The generation 39 is: Fitness: 2.6777334496227996e-07 Next sigma: [0.00022086]\n",
      "The generation 40 is: Fitness: 1.2883772785645155e-07 Next sigma: [0.00019377]\n",
      "The generation 41 is: Fitness: 7.97563733955071e-08 Next sigma: [0.00024882]\n",
      "The generation 42 is: Fitness: 7.97563733955071e-08 Next sigma: [0.00024882]\n",
      "The generation 43 is: Fitness: 4.077828928356261e-08 Next sigma: [0.00014815]\n",
      "The generation 44 is: Fitness: 3.036657119576926e-08 Next sigma: [0.00021902]\n",
      "The generation 45 is: Fitness: 3.036657119576926e-08 Next sigma: [0.00021902]\n",
      "The generation 46 is: Fitness: 2.7430555270376692e-08 Next sigma: [8.9742309e-05]\n",
      "The generation 47 is: Fitness: 1.8425553001198845e-08 Next sigma: [9.32551002e-05]\n",
      "The generation 48 is: Fitness: 5.316886945243841e-09 Next sigma: [0.00013954]\n",
      "The generation 49 is: Fitness: 5.316886945243841e-09 Next sigma: [0.00013954]\n",
      "The generation 50 is: Fitness: 5.316886945243841e-09 Next sigma: [0.00013954]\n",
      "The generation 51 is: Fitness: 5.316886945243841e-09 Next sigma: [0.00013954]\n",
      "The generation 52 is: Fitness: 5.316886945243841e-09 Next sigma: [0.00013954]\n",
      "The generation 53 is: Fitness: 2.5996058983439077e-09 Next sigma: [0.00010057]\n",
      "The generation 54 is: Fitness: 2.5996058983439077e-09 Next sigma: [0.00010057]\n",
      "The generation 55 is: Fitness: 2.5996058983439077e-09 Next sigma: [0.00010057]\n",
      "The generation 56 is: Fitness: 2.5100639970714104e-09 Next sigma: [6.09741035e-05]\n",
      "The generation 57 is: Fitness: 2.5100639970714104e-09 Next sigma: [6.09741035e-05]\n",
      "The generation 58 is: Fitness: 1.0817480013213074e-09 Next sigma: [2.7663802e-05]\n",
      "The generation 59 is: Fitness: 8.21671662096829e-10 Next sigma: [1.41198161e-05]\n",
      "The generation 60 is: Fitness: 4.6154371343458876e-10 Next sigma: [2.53343829e-05]\n",
      "The generation 61 is: Fitness: 4.6154371343458876e-10 Next sigma: [2.53343829e-05]\n",
      "The generation 62 is: Fitness: 1.4810039620830342e-10 Next sigma: [1.04808844e-05]\n",
      "The generation 63 is: Fitness: 1.224254838575117e-10 Next sigma: [8.59184053e-06]\n",
      "The generation 64 is: Fitness: 1.1994802276625749e-10 Next sigma: [1.15425336e-05]\n",
      "The generation 65 is: Fitness: 1.1994802276625749e-10 Next sigma: [1.15425336e-05]\n",
      "The generation 66 is: Fitness: 1.0799009010646145e-10 Next sigma: [1.35605683e-05]\n",
      "The generation 67 is: Fitness: 1.0799009010646145e-10 Next sigma: [1.35605683e-05]\n",
      "The generation 68 is: Fitness: 9.54920399360422e-11 Next sigma: [1.42358753e-05]\n",
      "The generation 69 is: Fitness: 9.54920399360422e-11 Next sigma: [1.42358753e-05]\n",
      "The generation 70 is: Fitness: 9.54920399360422e-11 Next sigma: [1.42358753e-05]\n",
      "The generation 71 is: Fitness: 7.164815412811605e-11 Next sigma: [1.21126579e-05]\n",
      "The generation 72 is: Fitness: 7.164815412811605e-11 Next sigma: [1.21126579e-05]\n",
      "The generation 73 is: Fitness: 7.129642424556911e-11 Next sigma: [5.03213328e-06]\n",
      "The generation 74 is: Fitness: 5.2178468697532875e-11 Next sigma: [2.59210363e-06]\n",
      "The generation 75 is: Fitness: 2.849450484055323e-11 Next sigma: [1.67690424e-06]\n",
      "The generation 76 is: Fitness: 1.758357022951956e-11 Next sigma: [2.67843511e-06]\n",
      "The generation 77 is: Fitness: 1.5411238619542462e-12 Next sigma: [1.46602949e-06]\n",
      "The generation 78 is: Fitness: 9.058917652789741e-13 Next sigma: [7.74038231e-07]\n",
      "The generation 79 is: Fitness: 3.554588602437639e-13 Next sigma: [7.31659508e-07]\n",
      "The generation 80 is: Fitness: 3.1360931850974636e-13 Next sigma: [7.16355432e-07]\n",
      "The generation 81 is: Fitness: 3.1360931850974636e-13 Next sigma: [7.16355432e-07]\n",
      "The generation 82 is: Fitness: 3.1360931850974636e-13 Next sigma: [7.16355432e-07]\n",
      "The generation 83 is: Fitness: 3.1360931850974636e-13 Next sigma: [7.16355432e-07]\n",
      "The generation 84 is: Fitness: 1.9615009929113144e-13 Next sigma: [3.63962932e-07]\n",
      "The generation 85 is: Fitness: 9.02081030131352e-14 Next sigma: [3.15856006e-07]\n",
      "The generation 86 is: Fitness: 7.07094990063918e-14 Next sigma: [3.02563628e-07]\n",
      "The generation 87 is: Fitness: 4.51323414050355e-14 Next sigma: [2.91839922e-07]\n",
      "The generation 88 is: Fitness: 4.51323414050355e-14 Next sigma: [2.91839922e-07]\n",
      "The generation 89 is: Fitness: 4.120129124873086e-14 Next sigma: [1.34213778e-07]\n",
      "The generation 90 is: Fitness: 3.540264352802938e-14 Next sigma: [6.98707701e-08]\n",
      "The generation 91 is: Fitness: 1.1094737795937791e-14 Next sigma: [5.0259014e-08]\n",
      "The generation 92 is: Fitness: 7.756214162850768e-15 Next sigma: [2.14707347e-08]\n",
      "The generation 93 is: Fitness: 3.280604768114953e-15 Next sigma: [2.37364625e-08]\n",
      "The generation 94 is: Fitness: 1.1088337248961755e-15 Next sigma: [3.98052138e-08]\n",
      "The generation 95 is: Fitness: 1.1088337248961755e-15 Next sigma: [3.98052138e-08]\n",
      "The generation 96 is: Fitness: 1.1088337248961755e-15 Next sigma: [3.98052138e-08]\n",
      "The generation 97 is: Fitness: 9.135402020457544e-16 Next sigma: [2.62154192e-08]\n",
      "The generation 98 is: Fitness: 6.351564706218067e-16 Next sigma: [2.0115729e-08]\n",
      "The generation 99 is: Fitness: 5.344976304321768e-16 Next sigma: [1.21229188e-08]\n",
      "The generation 100 is: Fitness: 1.1995352136026465e-16 Next sigma: [1.06941987e-08]\n"
     ]
    }
   ],
   "source": [
    "N = 5\n",
    "x = 2 * np.ones(N)\n",
    "generation = 1\n",
    "_lambda = 20\n",
    "sigma = 1.0\n",
    "s_sigma = 0\n",
    "Tau = 1 / np.sqrt(N)\n",
    "population = []\n",
    "\n",
    "# 100 Generations\n",
    "while generation <= 100:\n",
    "\n",
    "    # Create lambda offsprings per generation\n",
    "    for o in range(1, _lambda):\n",
    "        # Create and mutate offspring\n",
    "        xi = Tau * np.random.randn(1)\n",
    "        z = np.random.randn(N)\n",
    "        sigma_ = sigma * np.exp(xi)\n",
    "        x_ = x + sigma_ * z\n",
    "        fitness = sphere_function(x_)\n",
    "        candidate = Candidate(x_, sigma_, fitness)\n",
    "        population.append(candidate)\n",
    "\n",
    "    # Select the 1 best candidate (x_, sigma_) by sorting fitness\n",
    "    population.sort()\n",
    "    population = population[:1]\n",
    "    best = population[0]\n",
    "    x = best.x_m\n",
    "    sigma = best.sigma_m\n",
    "\n",
    "    print(\"The generation\", generation, \"is:\", \", \".join([str(m) for m in population]), \"Next sigma:\", sigma)\n",
    "\n",
    "    generation += 1"
   ],
   "metadata": {
    "collapsed": false,
    "pycharm": {
     "name": "#%%\n"
    }
   }
  },
  {
   "cell_type": "code",
   "execution_count": null,
   "outputs": [],
   "source": [],
   "metadata": {
    "collapsed": false,
    "pycharm": {
     "name": "#%%\n"
    }
   }
  },
  {
   "cell_type": "code",
   "execution_count": null,
   "outputs": [],
   "source": [],
   "metadata": {
    "collapsed": false,
    "pycharm": {
     "name": "#%%\n"
    }
   }
  }
 ],
 "metadata": {
  "kernelspec": {
   "display_name": "Python 3",
   "language": "python",
   "name": "python3"
  },
  "language_info": {
   "codemirror_mode": {
    "name": "ipython",
    "version": 2
   },
   "file_extension": ".py",
   "mimetype": "text/x-python",
   "name": "python",
   "nbconvert_exporter": "python",
   "pygments_lexer": "ipython2",
   "version": "2.7.6"
  }
 },
 "nbformat": 4,
 "nbformat_minor": 0
}